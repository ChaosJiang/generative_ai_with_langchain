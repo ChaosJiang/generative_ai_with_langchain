{
 "cells": [
  {
   "cell_type": "markdown",
   "id": "0d68b168",
   "metadata": {},
   "source": [
    "Basic Embeddings Usage\n"
   ]
  },
  {
   "cell_type": "code",
   "execution_count": 1,
   "id": "0a5bc805",
   "metadata": {},
   "outputs": [
    {
     "name": "stdout",
     "output_type": "stream",
     "text": [
      "Number of documents: 3\n",
      "Dimensions per embedding: 1536\n"
     ]
    }
   ],
   "source": [
    "from langchain_openai import OpenAIEmbeddings\n",
    "\n",
    "\n",
    "embeddings_model = OpenAIEmbeddings()\n",
    "text1 = \"The cat sat on the mat.\"\n",
    "text2 = \"A feline rested on the carpet.\"\n",
    "text3 = \"Python is a programming language.\"\n",
    "\n",
    "embeddings = embeddings_model.embed_documents([text1, text2, text3])\n",
    "\n",
    "embedding1 = embeddings[0]\n",
    "embedding2 = embeddings[1]\n",
    "embedding3 = embeddings[2]\n",
    "\n",
    "print(f\"Number of documents: {len(embeddings)}\")\n",
    "print(f\"Dimensions per embedding: {len(embedding1)}\")"
   ]
  }
 ],
 "metadata": {
  "kernelspec": {
   "display_name": ".venv",
   "language": "python",
   "name": "python3"
  },
  "language_info": {
   "codemirror_mode": {
    "name": "ipython",
    "version": 3
   },
   "file_extension": ".py",
   "mimetype": "text/x-python",
   "name": "python",
   "nbconvert_exporter": "python",
   "pygments_lexer": "ipython3",
   "version": "3.12.4"
  }
 },
 "nbformat": 4,
 "nbformat_minor": 5
}
