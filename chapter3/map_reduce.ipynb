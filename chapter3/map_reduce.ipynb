{
<<<<<<< Updated upstream
  "cells": [
    {
      "cell_type": "markdown",
      "id": "OBNgO5Cjr_Z7",
      "metadata": {
        "id": "OBNgO5Cjr_Z7"
      },
      "source": [
        "# Handling a long input"
      ]
    },
    {
      "cell_type": "markdown",
      "id": "bwl7HOCuKgBl",
      "metadata": {
        "id": "bwl7HOCuKgBl"
      },
      "source": [
        "Find a long video you'd like to process and put it on GCS:"
      ]
    },
    {
      "cell_type": "code",
      "execution_count": 3,
      "id": "oBZTn4m-vYTZ",
      "metadata": {
        "id": "oBZTn4m-vYTZ",
        "colab": {
          "base_uri": "https://localhost:8080/"
        },
        "collapsed": true,
        "outputId": "3c25cf33-f4ae-4f3d-ad28-d161dec59018"
      },
      "outputs": [
        {
          "output_type": "stream",
          "name": "stdout",
          "text": [
            "Requirement already satisfied: google-cloud-aiplatform in /usr/local/lib/python3.11/dist-packages (1.97.0)\n",
            "Requirement already satisfied: google-api-core!=2.0.*,!=2.1.*,!=2.2.*,!=2.3.*,!=2.4.*,!=2.5.*,!=2.6.*,!=2.7.*,<3.0.0,>=1.34.1 in /usr/local/lib/python3.11/dist-packages (from google-api-core[grpc]!=2.0.*,!=2.1.*,!=2.2.*,!=2.3.*,!=2.4.*,!=2.5.*,!=2.6.*,!=2.7.*,<3.0.0,>=1.34.1->google-cloud-aiplatform) (2.25.1)\n",
            "Requirement already satisfied: google-auth<3.0.0,>=2.14.1 in /usr/local/lib/python3.11/dist-packages (from google-cloud-aiplatform) (2.38.0)\n",
            "Requirement already satisfied: proto-plus<2.0.0,>=1.22.3 in /usr/local/lib/python3.11/dist-packages (from google-cloud-aiplatform) (1.26.1)\n",
            "Requirement already satisfied: protobuf!=4.21.0,!=4.21.1,!=4.21.2,!=4.21.3,!=4.21.4,!=4.21.5,<7.0.0,>=3.20.2 in /usr/local/lib/python3.11/dist-packages (from google-cloud-aiplatform) (5.29.5)\n",
            "Requirement already satisfied: packaging>=14.3 in /usr/local/lib/python3.11/dist-packages (from google-cloud-aiplatform) (24.2)\n",
            "Requirement already satisfied: google-cloud-storage<3.0.0,>=1.32.0 in /usr/local/lib/python3.11/dist-packages (from google-cloud-aiplatform) (2.19.0)\n",
            "Requirement already satisfied: google-cloud-bigquery!=3.20.0,<4.0.0,>=1.15.0 in /usr/local/lib/python3.11/dist-packages (from google-cloud-aiplatform) (3.34.0)\n",
            "Requirement already satisfied: google-cloud-resource-manager<3.0.0,>=1.3.3 in /usr/local/lib/python3.11/dist-packages (from google-cloud-aiplatform) (1.14.2)\n",
            "Requirement already satisfied: shapely<3.0.0 in /usr/local/lib/python3.11/dist-packages (from google-cloud-aiplatform) (2.1.1)\n",
            "Requirement already satisfied: google-genai<2.0.0,>=1.0.0 in /usr/local/lib/python3.11/dist-packages (from google-cloud-aiplatform) (1.20.0)\n",
            "Requirement already satisfied: pydantic<3 in /usr/local/lib/python3.11/dist-packages (from google-cloud-aiplatform) (2.11.7)\n",
            "Requirement already satisfied: typing_extensions in /usr/local/lib/python3.11/dist-packages (from google-cloud-aiplatform) (4.14.0)\n",
            "Requirement already satisfied: docstring_parser<1 in /usr/local/lib/python3.11/dist-packages (from google-cloud-aiplatform) (0.16)\n",
            "Requirement already satisfied: googleapis-common-protos<2.0.0,>=1.56.2 in /usr/local/lib/python3.11/dist-packages (from google-api-core!=2.0.*,!=2.1.*,!=2.2.*,!=2.3.*,!=2.4.*,!=2.5.*,!=2.6.*,!=2.7.*,<3.0.0,>=1.34.1->google-api-core[grpc]!=2.0.*,!=2.1.*,!=2.2.*,!=2.3.*,!=2.4.*,!=2.5.*,!=2.6.*,!=2.7.*,<3.0.0,>=1.34.1->google-cloud-aiplatform) (1.70.0)\n",
            "Requirement already satisfied: requests<3.0.0,>=2.18.0 in /usr/local/lib/python3.11/dist-packages (from google-api-core!=2.0.*,!=2.1.*,!=2.2.*,!=2.3.*,!=2.4.*,!=2.5.*,!=2.6.*,!=2.7.*,<3.0.0,>=1.34.1->google-api-core[grpc]!=2.0.*,!=2.1.*,!=2.2.*,!=2.3.*,!=2.4.*,!=2.5.*,!=2.6.*,!=2.7.*,<3.0.0,>=1.34.1->google-cloud-aiplatform) (2.32.3)\n",
            "Requirement already satisfied: grpcio<2.0.0,>=1.33.2 in /usr/local/lib/python3.11/dist-packages (from google-api-core[grpc]!=2.0.*,!=2.1.*,!=2.2.*,!=2.3.*,!=2.4.*,!=2.5.*,!=2.6.*,!=2.7.*,<3.0.0,>=1.34.1->google-cloud-aiplatform) (1.73.0)\n",
            "Requirement already satisfied: grpcio-status<2.0.0,>=1.33.2 in /usr/local/lib/python3.11/dist-packages (from google-api-core[grpc]!=2.0.*,!=2.1.*,!=2.2.*,!=2.3.*,!=2.4.*,!=2.5.*,!=2.6.*,!=2.7.*,<3.0.0,>=1.34.1->google-cloud-aiplatform) (1.71.0)\n",
            "Requirement already satisfied: cachetools<6.0,>=2.0.0 in /usr/local/lib/python3.11/dist-packages (from google-auth<3.0.0,>=2.14.1->google-cloud-aiplatform) (5.5.2)\n",
            "Requirement already satisfied: pyasn1-modules>=0.2.1 in /usr/local/lib/python3.11/dist-packages (from google-auth<3.0.0,>=2.14.1->google-cloud-aiplatform) (0.4.2)\n",
            "Requirement already satisfied: rsa<5,>=3.1.4 in /usr/local/lib/python3.11/dist-packages (from google-auth<3.0.0,>=2.14.1->google-cloud-aiplatform) (4.9.1)\n",
            "Requirement already satisfied: google-cloud-core<3.0.0,>=2.4.1 in /usr/local/lib/python3.11/dist-packages (from google-cloud-bigquery!=3.20.0,<4.0.0,>=1.15.0->google-cloud-aiplatform) (2.4.3)\n",
            "Requirement already satisfied: google-resumable-media<3.0.0,>=2.0.0 in /usr/local/lib/python3.11/dist-packages (from google-cloud-bigquery!=3.20.0,<4.0.0,>=1.15.0->google-cloud-aiplatform) (2.7.2)\n",
            "Requirement already satisfied: python-dateutil<3.0.0,>=2.8.2 in /usr/local/lib/python3.11/dist-packages (from google-cloud-bigquery!=3.20.0,<4.0.0,>=1.15.0->google-cloud-aiplatform) (2.9.0.post0)\n",
            "Requirement already satisfied: grpc-google-iam-v1<1.0.0,>=0.14.0 in /usr/local/lib/python3.11/dist-packages (from google-cloud-resource-manager<3.0.0,>=1.3.3->google-cloud-aiplatform) (0.14.2)\n",
            "Requirement already satisfied: google-crc32c<2.0dev,>=1.0 in /usr/local/lib/python3.11/dist-packages (from google-cloud-storage<3.0.0,>=1.32.0->google-cloud-aiplatform) (1.7.1)\n",
            "Requirement already satisfied: anyio<5.0.0,>=4.8.0 in /usr/local/lib/python3.11/dist-packages (from google-genai<2.0.0,>=1.0.0->google-cloud-aiplatform) (4.9.0)\n",
            "Requirement already satisfied: httpx<1.0.0,>=0.28.1 in /usr/local/lib/python3.11/dist-packages (from google-genai<2.0.0,>=1.0.0->google-cloud-aiplatform) (0.28.1)\n",
            "Requirement already satisfied: websockets<15.1.0,>=13.0.0 in /usr/local/lib/python3.11/dist-packages (from google-genai<2.0.0,>=1.0.0->google-cloud-aiplatform) (15.0.1)\n",
            "Requirement already satisfied: annotated-types>=0.6.0 in /usr/local/lib/python3.11/dist-packages (from pydantic<3->google-cloud-aiplatform) (0.7.0)\n",
            "Requirement already satisfied: pydantic-core==2.33.2 in /usr/local/lib/python3.11/dist-packages (from pydantic<3->google-cloud-aiplatform) (2.33.2)\n",
            "Requirement already satisfied: typing-inspection>=0.4.0 in /usr/local/lib/python3.11/dist-packages (from pydantic<3->google-cloud-aiplatform) (0.4.1)\n",
            "Requirement already satisfied: numpy>=1.21 in /usr/local/lib/python3.11/dist-packages (from shapely<3.0.0->google-cloud-aiplatform) (2.0.2)\n",
            "Requirement already satisfied: idna>=2.8 in /usr/local/lib/python3.11/dist-packages (from anyio<5.0.0,>=4.8.0->google-genai<2.0.0,>=1.0.0->google-cloud-aiplatform) (3.10)\n",
            "Requirement already satisfied: sniffio>=1.1 in /usr/local/lib/python3.11/dist-packages (from anyio<5.0.0,>=4.8.0->google-genai<2.0.0,>=1.0.0->google-cloud-aiplatform) (1.3.1)\n",
            "Requirement already satisfied: certifi in /usr/local/lib/python3.11/dist-packages (from httpx<1.0.0,>=0.28.1->google-genai<2.0.0,>=1.0.0->google-cloud-aiplatform) (2025.6.15)\n",
            "Requirement already satisfied: httpcore==1.* in /usr/local/lib/python3.11/dist-packages (from httpx<1.0.0,>=0.28.1->google-genai<2.0.0,>=1.0.0->google-cloud-aiplatform) (1.0.9)\n",
            "Requirement already satisfied: h11>=0.16 in /usr/local/lib/python3.11/dist-packages (from httpcore==1.*->httpx<1.0.0,>=0.28.1->google-genai<2.0.0,>=1.0.0->google-cloud-aiplatform) (0.16.0)\n",
            "Requirement already satisfied: pyasn1<0.7.0,>=0.6.1 in /usr/local/lib/python3.11/dist-packages (from pyasn1-modules>=0.2.1->google-auth<3.0.0,>=2.14.1->google-cloud-aiplatform) (0.6.1)\n",
            "Requirement already satisfied: six>=1.5 in /usr/local/lib/python3.11/dist-packages (from python-dateutil<3.0.0,>=2.8.2->google-cloud-bigquery!=3.20.0,<4.0.0,>=1.15.0->google-cloud-aiplatform) (1.17.0)\n",
            "Requirement already satisfied: charset-normalizer<4,>=2 in /usr/local/lib/python3.11/dist-packages (from requests<3.0.0,>=2.18.0->google-api-core!=2.0.*,!=2.1.*,!=2.2.*,!=2.3.*,!=2.4.*,!=2.5.*,!=2.6.*,!=2.7.*,<3.0.0,>=1.34.1->google-api-core[grpc]!=2.0.*,!=2.1.*,!=2.2.*,!=2.3.*,!=2.4.*,!=2.5.*,!=2.6.*,!=2.7.*,<3.0.0,>=1.34.1->google-cloud-aiplatform) (3.4.2)\n",
            "Requirement already satisfied: urllib3<3,>=1.21.1 in /usr/local/lib/python3.11/dist-packages (from requests<3.0.0,>=2.18.0->google-api-core!=2.0.*,!=2.1.*,!=2.2.*,!=2.3.*,!=2.4.*,!=2.5.*,!=2.6.*,!=2.7.*,<3.0.0,>=1.34.1->google-api-core[grpc]!=2.0.*,!=2.1.*,!=2.2.*,!=2.3.*,!=2.4.*,!=2.5.*,!=2.6.*,!=2.7.*,<3.0.0,>=1.34.1->google-cloud-aiplatform) (2.4.0)\n",
            "Collecting langchain_google_vertexai\n",
            "  Downloading langchain_google_vertexai-2.0.26-py3-none-any.whl.metadata (4.8 kB)\n",
            "Requirement already satisfied: bottleneck<2.0.0,>=1.4.2 in /usr/local/lib/python3.11/dist-packages (from langchain_google_vertexai) (1.4.2)\n",
            "Requirement already satisfied: google-cloud-aiplatform<2.0.0,>=1.97.0 in /usr/local/lib/python3.11/dist-packages (from langchain_google_vertexai) (1.97.0)\n",
            "Requirement already satisfied: google-cloud-storage<3.0.0,>=2.18.0 in /usr/local/lib/python3.11/dist-packages (from langchain_google_vertexai) (2.19.0)\n",
            "Requirement already satisfied: httpx<0.29.0,>=0.28.0 in /usr/local/lib/python3.11/dist-packages (from langchain_google_vertexai) (0.28.1)\n",
            "Collecting httpx-sse<0.5.0,>=0.4.0 (from langchain_google_vertexai)\n",
            "  Downloading httpx_sse-0.4.0-py3-none-any.whl.metadata (9.0 kB)\n",
            "Requirement already satisfied: langchain-core<0.4,>=0.3.65 in /usr/local/lib/python3.11/dist-packages (from langchain_google_vertexai) (0.3.65)\n",
            "Requirement already satisfied: numexpr<3.0.0,>=2.8.6 in /usr/local/lib/python3.11/dist-packages (from langchain_google_vertexai) (2.11.0)\n",
            "Collecting pyarrow<20.0.0,>=19.0.1 (from langchain_google_vertexai)\n",
            "  Downloading pyarrow-19.0.1-cp311-cp311-manylinux_2_28_x86_64.whl.metadata (3.3 kB)\n",
            "Requirement already satisfied: pydantic<3.0,>=2.9 in /usr/local/lib/python3.11/dist-packages (from langchain_google_vertexai) (2.11.7)\n",
            "Collecting validators<1,>=0.22.0 (from langchain_google_vertexai)\n",
            "  Downloading validators-0.35.0-py3-none-any.whl.metadata (3.9 kB)\n",
            "Requirement already satisfied: numpy in /usr/local/lib/python3.11/dist-packages (from bottleneck<2.0.0,>=1.4.2->langchain_google_vertexai) (2.0.2)\n",
            "Requirement already satisfied: google-api-core!=2.0.*,!=2.1.*,!=2.2.*,!=2.3.*,!=2.4.*,!=2.5.*,!=2.6.*,!=2.7.*,<3.0.0,>=1.34.1 in /usr/local/lib/python3.11/dist-packages (from google-api-core[grpc]!=2.0.*,!=2.1.*,!=2.2.*,!=2.3.*,!=2.4.*,!=2.5.*,!=2.6.*,!=2.7.*,<3.0.0,>=1.34.1->google-cloud-aiplatform<2.0.0,>=1.97.0->langchain_google_vertexai) (2.25.1)\n",
            "Requirement already satisfied: google-auth<3.0.0,>=2.14.1 in /usr/local/lib/python3.11/dist-packages (from google-cloud-aiplatform<2.0.0,>=1.97.0->langchain_google_vertexai) (2.38.0)\n",
            "Requirement already satisfied: proto-plus<2.0.0,>=1.22.3 in /usr/local/lib/python3.11/dist-packages (from google-cloud-aiplatform<2.0.0,>=1.97.0->langchain_google_vertexai) (1.26.1)\n",
            "Requirement already satisfied: protobuf!=4.21.0,!=4.21.1,!=4.21.2,!=4.21.3,!=4.21.4,!=4.21.5,<7.0.0,>=3.20.2 in /usr/local/lib/python3.11/dist-packages (from google-cloud-aiplatform<2.0.0,>=1.97.0->langchain_google_vertexai) (5.29.5)\n",
            "Requirement already satisfied: packaging>=14.3 in /usr/local/lib/python3.11/dist-packages (from google-cloud-aiplatform<2.0.0,>=1.97.0->langchain_google_vertexai) (24.2)\n",
            "Requirement already satisfied: google-cloud-bigquery!=3.20.0,<4.0.0,>=1.15.0 in /usr/local/lib/python3.11/dist-packages (from google-cloud-aiplatform<2.0.0,>=1.97.0->langchain_google_vertexai) (3.34.0)\n",
            "Requirement already satisfied: google-cloud-resource-manager<3.0.0,>=1.3.3 in /usr/local/lib/python3.11/dist-packages (from google-cloud-aiplatform<2.0.0,>=1.97.0->langchain_google_vertexai) (1.14.2)\n",
            "Requirement already satisfied: shapely<3.0.0 in /usr/local/lib/python3.11/dist-packages (from google-cloud-aiplatform<2.0.0,>=1.97.0->langchain_google_vertexai) (2.1.1)\n",
            "Requirement already satisfied: google-genai<2.0.0,>=1.0.0 in /usr/local/lib/python3.11/dist-packages (from google-cloud-aiplatform<2.0.0,>=1.97.0->langchain_google_vertexai) (1.20.0)\n",
            "Requirement already satisfied: typing_extensions in /usr/local/lib/python3.11/dist-packages (from google-cloud-aiplatform<2.0.0,>=1.97.0->langchain_google_vertexai) (4.14.0)\n",
            "Requirement already satisfied: docstring_parser<1 in /usr/local/lib/python3.11/dist-packages (from google-cloud-aiplatform<2.0.0,>=1.97.0->langchain_google_vertexai) (0.16)\n",
            "Requirement already satisfied: google-cloud-core<3.0dev,>=2.3.0 in /usr/local/lib/python3.11/dist-packages (from google-cloud-storage<3.0.0,>=2.18.0->langchain_google_vertexai) (2.4.3)\n",
            "Requirement already satisfied: google-resumable-media>=2.7.2 in /usr/local/lib/python3.11/dist-packages (from google-cloud-storage<3.0.0,>=2.18.0->langchain_google_vertexai) (2.7.2)\n",
            "Requirement already satisfied: requests<3.0.0dev,>=2.18.0 in /usr/local/lib/python3.11/dist-packages (from google-cloud-storage<3.0.0,>=2.18.0->langchain_google_vertexai) (2.32.3)\n",
            "Requirement already satisfied: google-crc32c<2.0dev,>=1.0 in /usr/local/lib/python3.11/dist-packages (from google-cloud-storage<3.0.0,>=2.18.0->langchain_google_vertexai) (1.7.1)\n",
            "Requirement already satisfied: anyio in /usr/local/lib/python3.11/dist-packages (from httpx<0.29.0,>=0.28.0->langchain_google_vertexai) (4.9.0)\n",
            "Requirement already satisfied: certifi in /usr/local/lib/python3.11/dist-packages (from httpx<0.29.0,>=0.28.0->langchain_google_vertexai) (2025.6.15)\n",
            "Requirement already satisfied: httpcore==1.* in /usr/local/lib/python3.11/dist-packages (from httpx<0.29.0,>=0.28.0->langchain_google_vertexai) (1.0.9)\n",
            "Requirement already satisfied: idna in /usr/local/lib/python3.11/dist-packages (from httpx<0.29.0,>=0.28.0->langchain_google_vertexai) (3.10)\n",
            "Requirement already satisfied: h11>=0.16 in /usr/local/lib/python3.11/dist-packages (from httpcore==1.*->httpx<0.29.0,>=0.28.0->langchain_google_vertexai) (0.16.0)\n",
            "Requirement already satisfied: langsmith<0.4,>=0.3.45 in /usr/local/lib/python3.11/dist-packages (from langchain-core<0.4,>=0.3.65->langchain_google_vertexai) (0.3.45)\n",
            "Requirement already satisfied: tenacity!=8.4.0,<10.0.0,>=8.1.0 in /usr/local/lib/python3.11/dist-packages (from langchain-core<0.4,>=0.3.65->langchain_google_vertexai) (9.1.2)\n",
            "Requirement already satisfied: jsonpatch<2.0,>=1.33 in /usr/local/lib/python3.11/dist-packages (from langchain-core<0.4,>=0.3.65->langchain_google_vertexai) (1.33)\n",
            "Requirement already satisfied: PyYAML>=5.3 in /usr/local/lib/python3.11/dist-packages (from langchain-core<0.4,>=0.3.65->langchain_google_vertexai) (6.0.2)\n",
            "Requirement already satisfied: annotated-types>=0.6.0 in /usr/local/lib/python3.11/dist-packages (from pydantic<3.0,>=2.9->langchain_google_vertexai) (0.7.0)\n",
            "Requirement already satisfied: pydantic-core==2.33.2 in /usr/local/lib/python3.11/dist-packages (from pydantic<3.0,>=2.9->langchain_google_vertexai) (2.33.2)\n",
            "Requirement already satisfied: typing-inspection>=0.4.0 in /usr/local/lib/python3.11/dist-packages (from pydantic<3.0,>=2.9->langchain_google_vertexai) (0.4.1)\n",
            "Requirement already satisfied: googleapis-common-protos<2.0.0,>=1.56.2 in /usr/local/lib/python3.11/dist-packages (from google-api-core!=2.0.*,!=2.1.*,!=2.2.*,!=2.3.*,!=2.4.*,!=2.5.*,!=2.6.*,!=2.7.*,<3.0.0,>=1.34.1->google-api-core[grpc]!=2.0.*,!=2.1.*,!=2.2.*,!=2.3.*,!=2.4.*,!=2.5.*,!=2.6.*,!=2.7.*,<3.0.0,>=1.34.1->google-cloud-aiplatform<2.0.0,>=1.97.0->langchain_google_vertexai) (1.70.0)\n",
            "Requirement already satisfied: grpcio<2.0.0,>=1.33.2 in /usr/local/lib/python3.11/dist-packages (from google-api-core[grpc]!=2.0.*,!=2.1.*,!=2.2.*,!=2.3.*,!=2.4.*,!=2.5.*,!=2.6.*,!=2.7.*,<3.0.0,>=1.34.1->google-cloud-aiplatform<2.0.0,>=1.97.0->langchain_google_vertexai) (1.73.0)\n",
            "Requirement already satisfied: grpcio-status<2.0.0,>=1.33.2 in /usr/local/lib/python3.11/dist-packages (from google-api-core[grpc]!=2.0.*,!=2.1.*,!=2.2.*,!=2.3.*,!=2.4.*,!=2.5.*,!=2.6.*,!=2.7.*,<3.0.0,>=1.34.1->google-cloud-aiplatform<2.0.0,>=1.97.0->langchain_google_vertexai) (1.71.0)\n",
            "Requirement already satisfied: cachetools<6.0,>=2.0.0 in /usr/local/lib/python3.11/dist-packages (from google-auth<3.0.0,>=2.14.1->google-cloud-aiplatform<2.0.0,>=1.97.0->langchain_google_vertexai) (5.5.2)\n",
            "Requirement already satisfied: pyasn1-modules>=0.2.1 in /usr/local/lib/python3.11/dist-packages (from google-auth<3.0.0,>=2.14.1->google-cloud-aiplatform<2.0.0,>=1.97.0->langchain_google_vertexai) (0.4.2)\n",
            "Requirement already satisfied: rsa<5,>=3.1.4 in /usr/local/lib/python3.11/dist-packages (from google-auth<3.0.0,>=2.14.1->google-cloud-aiplatform<2.0.0,>=1.97.0->langchain_google_vertexai) (4.9.1)\n",
            "Requirement already satisfied: python-dateutil<3.0.0,>=2.8.2 in /usr/local/lib/python3.11/dist-packages (from google-cloud-bigquery!=3.20.0,<4.0.0,>=1.15.0->google-cloud-aiplatform<2.0.0,>=1.97.0->langchain_google_vertexai) (2.9.0.post0)\n",
            "Requirement already satisfied: grpc-google-iam-v1<1.0.0,>=0.14.0 in /usr/local/lib/python3.11/dist-packages (from google-cloud-resource-manager<3.0.0,>=1.3.3->google-cloud-aiplatform<2.0.0,>=1.97.0->langchain_google_vertexai) (0.14.2)\n",
            "Requirement already satisfied: websockets<15.1.0,>=13.0.0 in /usr/local/lib/python3.11/dist-packages (from google-genai<2.0.0,>=1.0.0->google-cloud-aiplatform<2.0.0,>=1.97.0->langchain_google_vertexai) (15.0.1)\n",
            "Requirement already satisfied: sniffio>=1.1 in /usr/local/lib/python3.11/dist-packages (from anyio->httpx<0.29.0,>=0.28.0->langchain_google_vertexai) (1.3.1)\n",
            "Requirement already satisfied: jsonpointer>=1.9 in /usr/local/lib/python3.11/dist-packages (from jsonpatch<2.0,>=1.33->langchain-core<0.4,>=0.3.65->langchain_google_vertexai) (3.0.0)\n",
            "Requirement already satisfied: orjson<4.0.0,>=3.9.14 in /usr/local/lib/python3.11/dist-packages (from langsmith<0.4,>=0.3.45->langchain-core<0.4,>=0.3.65->langchain_google_vertexai) (3.10.18)\n",
            "Requirement already satisfied: requests-toolbelt<2.0.0,>=1.0.0 in /usr/local/lib/python3.11/dist-packages (from langsmith<0.4,>=0.3.45->langchain-core<0.4,>=0.3.65->langchain_google_vertexai) (1.0.0)\n",
            "Requirement already satisfied: zstandard<0.24.0,>=0.23.0 in /usr/local/lib/python3.11/dist-packages (from langsmith<0.4,>=0.3.45->langchain-core<0.4,>=0.3.65->langchain_google_vertexai) (0.23.0)\n",
            "Requirement already satisfied: charset-normalizer<4,>=2 in /usr/local/lib/python3.11/dist-packages (from requests<3.0.0dev,>=2.18.0->google-cloud-storage<3.0.0,>=2.18.0->langchain_google_vertexai) (3.4.2)\n",
            "Requirement already satisfied: urllib3<3,>=1.21.1 in /usr/local/lib/python3.11/dist-packages (from requests<3.0.0dev,>=2.18.0->google-cloud-storage<3.0.0,>=2.18.0->langchain_google_vertexai) (2.4.0)\n",
            "Requirement already satisfied: pyasn1<0.7.0,>=0.6.1 in /usr/local/lib/python3.11/dist-packages (from pyasn1-modules>=0.2.1->google-auth<3.0.0,>=2.14.1->google-cloud-aiplatform<2.0.0,>=1.97.0->langchain_google_vertexai) (0.6.1)\n",
            "Requirement already satisfied: six>=1.5 in /usr/local/lib/python3.11/dist-packages (from python-dateutil<3.0.0,>=2.8.2->google-cloud-bigquery!=3.20.0,<4.0.0,>=1.15.0->google-cloud-aiplatform<2.0.0,>=1.97.0->langchain_google_vertexai) (1.17.0)\n",
            "Downloading langchain_google_vertexai-2.0.26-py3-none-any.whl (102 kB)\n",
            "\u001b[2K   \u001b[90m━━━━━━━━━━━━━━━━━━━━━━━━━━━━━━━━━━━━━━━━\u001b[0m \u001b[32m102.7/102.7 kB\u001b[0m \u001b[31m4.6 MB/s\u001b[0m eta \u001b[36m0:00:00\u001b[0m\n",
            "\u001b[?25hDownloading httpx_sse-0.4.0-py3-none-any.whl (7.8 kB)\n",
            "Downloading pyarrow-19.0.1-cp311-cp311-manylinux_2_28_x86_64.whl (42.1 MB)\n",
            "\u001b[2K   \u001b[90m━━━━━━━━━━━━━━━━━━━━━━━━━━━━━━━━━━━━━━━━\u001b[0m \u001b[32m42.1/42.1 MB\u001b[0m \u001b[31m17.0 MB/s\u001b[0m eta \u001b[36m0:00:00\u001b[0m\n",
            "\u001b[?25hDownloading validators-0.35.0-py3-none-any.whl (44 kB)\n",
            "\u001b[2K   \u001b[90m━━━━━━━━━━━━━━━━━━━━━━━━━━━━━━━━━━━━━━━━\u001b[0m \u001b[32m44.7/44.7 kB\u001b[0m \u001b[31m3.5 MB/s\u001b[0m eta \u001b[36m0:00:00\u001b[0m\n",
            "\u001b[?25hInstalling collected packages: validators, pyarrow, httpx-sse, langchain_google_vertexai\n",
            "  Attempting uninstall: pyarrow\n",
            "    Found existing installation: pyarrow 18.1.0\n",
            "    Uninstalling pyarrow-18.1.0:\n",
            "      Successfully uninstalled pyarrow-18.1.0\n",
            "Successfully installed httpx-sse-0.4.0 langchain_google_vertexai-2.0.26 pyarrow-19.0.1 validators-0.35.0\n",
            "Requirement already satisfied: google-auth in /usr/local/lib/python3.11/dist-packages (2.38.0)\n",
            "Requirement already satisfied: cachetools<6.0,>=2.0.0 in /usr/local/lib/python3.11/dist-packages (from google-auth) (5.5.2)\n",
            "Requirement already satisfied: pyasn1-modules>=0.2.1 in /usr/local/lib/python3.11/dist-packages (from google-auth) (0.4.2)\n",
            "Requirement already satisfied: rsa<5,>=3.1.4 in /usr/local/lib/python3.11/dist-packages (from google-auth) (4.9.1)\n",
            "Requirement already satisfied: pyasn1<0.7.0,>=0.6.1 in /usr/local/lib/python3.11/dist-packages (from pyasn1-modules>=0.2.1->google-auth) (0.6.1)\n",
            "Collecting langgraph\n",
            "  Downloading langgraph-0.4.8-py3-none-any.whl.metadata (6.8 kB)\n",
            "Requirement already satisfied: langchain-core>=0.1 in /usr/local/lib/python3.11/dist-packages (from langgraph) (0.3.65)\n",
            "Collecting langgraph-checkpoint>=2.0.26 (from langgraph)\n",
            "  Downloading langgraph_checkpoint-2.1.0-py3-none-any.whl.metadata (4.2 kB)\n",
            "Collecting langgraph-prebuilt>=0.2.0 (from langgraph)\n",
            "  Downloading langgraph_prebuilt-0.2.2-py3-none-any.whl.metadata (4.5 kB)\n",
            "Collecting langgraph-sdk>=0.1.42 (from langgraph)\n",
            "  Downloading langgraph_sdk-0.1.70-py3-none-any.whl.metadata (1.5 kB)\n",
            "Requirement already satisfied: pydantic>=2.7.4 in /usr/local/lib/python3.11/dist-packages (from langgraph) (2.11.7)\n",
            "Requirement already satisfied: xxhash>=3.5.0 in /usr/local/lib/python3.11/dist-packages (from langgraph) (3.5.0)\n",
            "Requirement already satisfied: langsmith<0.4,>=0.3.45 in /usr/local/lib/python3.11/dist-packages (from langchain-core>=0.1->langgraph) (0.3.45)\n",
            "Requirement already satisfied: tenacity!=8.4.0,<10.0.0,>=8.1.0 in /usr/local/lib/python3.11/dist-packages (from langchain-core>=0.1->langgraph) (9.1.2)\n",
            "Requirement already satisfied: jsonpatch<2.0,>=1.33 in /usr/local/lib/python3.11/dist-packages (from langchain-core>=0.1->langgraph) (1.33)\n",
            "Requirement already satisfied: PyYAML>=5.3 in /usr/local/lib/python3.11/dist-packages (from langchain-core>=0.1->langgraph) (6.0.2)\n",
            "Requirement already satisfied: packaging<25,>=23.2 in /usr/local/lib/python3.11/dist-packages (from langchain-core>=0.1->langgraph) (24.2)\n",
            "Requirement already satisfied: typing-extensions>=4.7 in /usr/local/lib/python3.11/dist-packages (from langchain-core>=0.1->langgraph) (4.14.0)\n",
            "Collecting ormsgpack>=1.10.0 (from langgraph-checkpoint>=2.0.26->langgraph)\n",
            "  Downloading ormsgpack-1.10.0-cp311-cp311-manylinux_2_17_x86_64.manylinux2014_x86_64.whl.metadata (43 kB)\n",
            "\u001b[2K     \u001b[90m━━━━━━━━━━━━━━━━━━━━━━━━━━━━━━━━━━━━━━━━\u001b[0m \u001b[32m43.7/43.7 kB\u001b[0m \u001b[31m2.1 MB/s\u001b[0m eta \u001b[36m0:00:00\u001b[0m\n",
            "\u001b[?25hRequirement already satisfied: httpx>=0.25.2 in /usr/local/lib/python3.11/dist-packages (from langgraph-sdk>=0.1.42->langgraph) (0.28.1)\n",
            "Requirement already satisfied: orjson>=3.10.1 in /usr/local/lib/python3.11/dist-packages (from langgraph-sdk>=0.1.42->langgraph) (3.10.18)\n",
            "Requirement already satisfied: annotated-types>=0.6.0 in /usr/local/lib/python3.11/dist-packages (from pydantic>=2.7.4->langgraph) (0.7.0)\n",
            "Requirement already satisfied: pydantic-core==2.33.2 in /usr/local/lib/python3.11/dist-packages (from pydantic>=2.7.4->langgraph) (2.33.2)\n",
            "Requirement already satisfied: typing-inspection>=0.4.0 in /usr/local/lib/python3.11/dist-packages (from pydantic>=2.7.4->langgraph) (0.4.1)\n",
            "Requirement already satisfied: anyio in /usr/local/lib/python3.11/dist-packages (from httpx>=0.25.2->langgraph-sdk>=0.1.42->langgraph) (4.9.0)\n",
            "Requirement already satisfied: certifi in /usr/local/lib/python3.11/dist-packages (from httpx>=0.25.2->langgraph-sdk>=0.1.42->langgraph) (2025.6.15)\n",
            "Requirement already satisfied: httpcore==1.* in /usr/local/lib/python3.11/dist-packages (from httpx>=0.25.2->langgraph-sdk>=0.1.42->langgraph) (1.0.9)\n",
            "Requirement already satisfied: idna in /usr/local/lib/python3.11/dist-packages (from httpx>=0.25.2->langgraph-sdk>=0.1.42->langgraph) (3.10)\n",
            "Requirement already satisfied: h11>=0.16 in /usr/local/lib/python3.11/dist-packages (from httpcore==1.*->httpx>=0.25.2->langgraph-sdk>=0.1.42->langgraph) (0.16.0)\n",
            "Requirement already satisfied: jsonpointer>=1.9 in /usr/local/lib/python3.11/dist-packages (from jsonpatch<2.0,>=1.33->langchain-core>=0.1->langgraph) (3.0.0)\n",
            "Requirement already satisfied: requests<3,>=2 in /usr/local/lib/python3.11/dist-packages (from langsmith<0.4,>=0.3.45->langchain-core>=0.1->langgraph) (2.32.3)\n",
            "Requirement already satisfied: requests-toolbelt<2.0.0,>=1.0.0 in /usr/local/lib/python3.11/dist-packages (from langsmith<0.4,>=0.3.45->langchain-core>=0.1->langgraph) (1.0.0)\n",
            "Requirement already satisfied: zstandard<0.24.0,>=0.23.0 in /usr/local/lib/python3.11/dist-packages (from langsmith<0.4,>=0.3.45->langchain-core>=0.1->langgraph) (0.23.0)\n",
            "Requirement already satisfied: charset-normalizer<4,>=2 in /usr/local/lib/python3.11/dist-packages (from requests<3,>=2->langsmith<0.4,>=0.3.45->langchain-core>=0.1->langgraph) (3.4.2)\n",
            "Requirement already satisfied: urllib3<3,>=1.21.1 in /usr/local/lib/python3.11/dist-packages (from requests<3,>=2->langsmith<0.4,>=0.3.45->langchain-core>=0.1->langgraph) (2.4.0)\n",
            "Requirement already satisfied: sniffio>=1.1 in /usr/local/lib/python3.11/dist-packages (from anyio->httpx>=0.25.2->langgraph-sdk>=0.1.42->langgraph) (1.3.1)\n",
            "Downloading langgraph-0.4.8-py3-none-any.whl (152 kB)\n",
            "\u001b[2K   \u001b[90m━━━━━━━━━━━━━━━━━━━━━━━━━━━━━━━━━━━━━━━━\u001b[0m \u001b[32m152.4/152.4 kB\u001b[0m \u001b[31m5.3 MB/s\u001b[0m eta \u001b[36m0:00:00\u001b[0m\n",
            "\u001b[?25hDownloading langgraph_checkpoint-2.1.0-py3-none-any.whl (43 kB)\n",
            "\u001b[2K   \u001b[90m━━━━━━━━━━━━━━━━━━━━━━━━━━━━━━━━━━━━━━━━\u001b[0m \u001b[32m43.8/43.8 kB\u001b[0m \u001b[31m3.2 MB/s\u001b[0m eta \u001b[36m0:00:00\u001b[0m\n",
            "\u001b[?25hDownloading langgraph_prebuilt-0.2.2-py3-none-any.whl (23 kB)\n",
            "Downloading langgraph_sdk-0.1.70-py3-none-any.whl (49 kB)\n",
            "\u001b[2K   \u001b[90m━━━━━━━━━━━━━━━━━━━━━━━━━━━━━━━━━━━━━━━━\u001b[0m \u001b[32m50.0/50.0 kB\u001b[0m \u001b[31m4.0 MB/s\u001b[0m eta \u001b[36m0:00:00\u001b[0m\n",
            "\u001b[?25hDownloading ormsgpack-1.10.0-cp311-cp311-manylinux_2_17_x86_64.manylinux2014_x86_64.whl (216 kB)\n",
            "\u001b[2K   \u001b[90m━━━━━━━━━━━━━━━━━━━━━━━━━━━━━━━━━━━━━━━━\u001b[0m \u001b[32m216.5/216.5 kB\u001b[0m \u001b[31m16.3 MB/s\u001b[0m eta \u001b[36m0:00:00\u001b[0m\n",
            "\u001b[?25hInstalling collected packages: ormsgpack, langgraph-sdk, langgraph-checkpoint, langgraph-prebuilt, langgraph\n",
            "Successfully installed langgraph-0.4.8 langgraph-checkpoint-2.1.0 langgraph-prebuilt-0.2.2 langgraph-sdk-0.1.70 ormsgpack-1.10.0\n"
          ]
        }
      ],
      "source": [
        "video_uri = \"https://www.youtube.com/watch?v=N4H22nnyr6c\"\n",
        "\n",
        "!pip install google-cloud-aiplatform\n",
        "!pip install langchain_google_vertexai\n",
        "!pip install langgraph"
      ]
    },
    {
      "cell_type": "code",
      "source": [
        "from google.colab import userdata\n",
        "# Load credentials from the service account file\n",
        "credentials = userdata.get(\"GOOGLE_APPLICATION_CREDENTIALS\")\n",
        "\n",
        "# llm = ChatVertexAI(model=\"gemini-2.0-flash-lite-001\", project=\"gen-lang-client-0967807610\", credentials=credentials)"
      ],
      "metadata": {
        "id": "jDCoPH--viLo"
      },
      "id": "jDCoPH--viLo",
      "execution_count": 4,
      "outputs": []
    },
    {
      "cell_type": "code",
      "execution_count": null,
      "id": "YN6a7YHILGZF",
      "metadata": {
        "id": "YN6a7YHILGZF",
        "colab": {
          "base_uri": "https://localhost:8080/"
        },
        "outputId": "5e722887-bb6a-432c-a2ba-2b285d2f3d63"
      },
      "outputs": [
        {
          "output_type": "stream",
          "name": "stderr",
          "text": [
            "ERROR:grpc._plugin_wrapping:AuthMetadataPluginCallback \"<google.auth.transport.grpc.AuthMetadataPlugin object at 0x7e93f26b44d0>\" raised exception!\n",
            "Traceback (most recent call last):\n",
            "  File \"/usr/local/lib/python3.11/dist-packages/grpc/_plugin_wrapping.py\", line 105, in __call__\n",
            "    self._metadata_plugin(\n",
            "  File \"/usr/local/lib/python3.11/dist-packages/google/auth/transport/grpc.py\", line 95, in __call__\n",
            "    callback(self._get_authorization_headers(context), None)\n",
            "             ^^^^^^^^^^^^^^^^^^^^^^^^^^^^^^^^^^^^^^^^\n",
            "  File \"/usr/local/lib/python3.11/dist-packages/google/auth/transport/grpc.py\", line 81, in _get_authorization_headers\n",
            "    self._credentials.before_request(\n",
            "    ^^^^^^^^^^^^^^^^^^^^^^^^^^^^^^^^\n",
            "AttributeError: 'str' object has no attribute 'before_request'\n",
            "ERROR:grpc._plugin_wrapping:AuthMetadataPluginCallback \"<google.auth.transport.grpc.AuthMetadataPlugin object at 0x7e93f26a2f50>\" raised exception!\n",
            "Traceback (most recent call last):\n",
            "  File \"/usr/local/lib/python3.11/dist-packages/grpc/_plugin_wrapping.py\", line 105, in __call__\n",
            "    self._metadata_plugin(\n",
            "  File \"/usr/local/lib/python3.11/dist-packages/google/auth/transport/grpc.py\", line 95, in __call__\n",
            "    callback(self._get_authorization_headers(context), None)\n",
            "             ^^^^^^^^^^^^^^^^^^^^^^^^^^^^^^^^^^^^^^^^\n",
            "  File \"/usr/local/lib/python3.11/dist-packages/google/auth/transport/grpc.py\", line 81, in _get_authorization_headers\n",
            "    self._credentials.before_request(\n",
            "    ^^^^^^^^^^^^^^^^^^^^^^^^^^^^^^^^\n",
            "AttributeError: 'str' object has no attribute 'before_request'\n",
            "WARNING:langchain_google_vertexai._retry:Retrying langchain_google_vertexai.chat_models._completion_with_retry.<locals>._completion_with_retry_inner in 4.0 seconds as it raised ServiceUnavailable: 503 Getting metadata from plugin failed with error: 'str' object has no attribute 'before_request'.\n",
            "WARNING:langchain_google_vertexai._retry:Retrying langchain_google_vertexai.chat_models._completion_with_retry.<locals>._completion_with_retry_inner in 4.0 seconds as it raised ServiceUnavailable: 503 Getting metadata from plugin failed with error: 'str' object has no attribute 'before_request'.\n"
          ]
        }
      ],
      "source": [
        "from langchain_core.messages import HumanMessage\n",
        "from langchain_core.output_parsers import StrOutputParser\n",
        "from langchain_google_vertexai import ChatVertexAI\n",
        "\n",
        "human_part = {\"type\": \"text\", \"text\": \"Provide a summary of the video.\"}\n",
        "\n",
        "def _create_input_messages(*, video_uri: str, chunks: int = 5, interval_secs: int = 600):\n",
        "  video_parts = []\n",
        "  for start_offset in range(chunks):\n",
        "    part = {\n",
        "        \"type\": \"media\", \"file_uri\": video_uri, \"mime_type\": \"video/mp4\",\n",
        "        \"video_metadata\": {\n",
        "            \"start_offset\": {\"seconds\": start_offset*interval_secs},\n",
        "            \"end_offset\": {\"seconds\": (start_offset+1)*interval_secs}}\n",
        "    }\n",
        "    video_parts.append(part)\n",
        "  return [[HumanMessage(content=[human_part, vp])] for vp in video_parts]\n",
        "\n",
        "\n",
        "input_messages = _create_input_messages(video_uri=video_uri, chunks=2)\n",
        "llm = ChatVertexAI(model=\"gemini-2.0-flash-001\",project=\"gen-lang-client-0967807610\",credentials=credentials)\n",
        "map_chain = llm | StrOutputParser()\n",
        "\n",
        "summaries = map_chain.batch(input_messages, config={\"max_concurrency\": 3})"
      ]
    },
    {
      "cell_type": "code",
      "execution_count": null,
      "id": "MFSDMh1YLYio",
      "metadata": {
        "id": "MFSDMh1YLYio"
      },
      "outputs": [],
      "source": [
        "from langchain_core.runnables import RunnableLambda\n",
        "\n",
        "create_inputs_chain = RunnableLambda(lambda x: _create_input_messages(**x))\n",
        "map_step_chain = create_inputs_chain | RunnableLambda(lambda x: map_chain.batch(x, config={\"max_concurrency\": 3}))\n",
        "summaries =  map_step_chain.invoke({\"video_uri\": video_uri})"
      ]
    },
    {
      "cell_type": "markdown",
      "id": "BlD0kaN0ZTAJ",
      "metadata": {
        "id": "BlD0kaN0ZTAJ"
      },
      "source": [
        "Let's define a function to merge summaries together:"
      ]
    },
    {
      "cell_type": "code",
      "execution_count": null,
      "id": "lMUgDnrMM_iY",
      "metadata": {
        "id": "lMUgDnrMM_iY"
      },
      "outputs": [],
      "source": [
        "from langchain_core.prompts import PromptTemplate\n",
        "\n",
        "def _merge_summaries(summaries: list[str], interval_secs: int = 600, **kwargs) -> str:\n",
        "  sub_summaries = []\n",
        "  for i, summary in enumerate(summaries):\n",
        "    sub_summary = (\n",
        "        f\"Summary from sec {i*interval_secs} to sec {(i+1)*interval_secs}:\"\n",
        "        f\"\\n{summary}\\n\")\n",
        "    sub_summaries.append(sub_summary)\n",
        "  return \"\".join(sub_summaries)\n",
        "\n",
        "\n",
        "reduce_prompt = PromptTemplate.from_template(\n",
        "    \"You are given a list of summaries that \"\n",
        "    \"of a video splitted into sequential pieces.\\n\"\n",
        "    \"SUMMARIES:\\n{summaries}\"\n",
        "    \"Based on that, prepare a summary of a whole video.\"\n",
        "    )\n",
        "\n",
        "\n",
        "reduce_chain = RunnableLambda(lambda x: _merge_summaries(**x)) | reduce_prompt | llm | StrOutputParser()\n",
        "final_summary = reduce_chain.invoke({\"summaries\": summaries})\n"
      ]
    },
    {
      "cell_type": "code",
      "execution_count": null,
      "id": "2Qrt3vdC_Ts0",
      "metadata": {
        "colab": {
          "base_uri": "https://localhost:8080/"
        },
        "id": "2Qrt3vdC_Ts0",
        "outputId": "3d55bc27-764c-4ef9-a950-2fd6da41526d"
      },
      "outputs": [
        {
          "name": "stdout",
          "output_type": "stream",
          "text": [
            "## Google Cast: Evolution and Future - A Comprehensive Summary\n",
            "\n",
            "This video, featuring Majd Bakar and John Affaki, explores the evolution of Google Cast and provides insights into its future direction.\n",
            "\n",
            "**Introduction (0-600 seconds):**\n",
            "\n",
            "The video begins by highlighting the success of Chromecast, a revolutionary $35 device that extends content from mobile devices to HDTVs. The Google Cast SDK and developer program, boasting over 6,000 developers, have been instrumental in expanding the casting ecosystem. The core vision for Google Cast revolves around: redefining interaction models with television (moving away from cumbersome experiences with technologies like gyroscopes and cameras), building a robust ecosystem, ensuring an open platform, and delivering a consistent user experience.  The ubiquity of mobile devices allows developers to focus on function without compromising form. The SDK is available for Android, iOS, and Web Apps in Chrome, and over 50% of Chromecast users utilize multiple platforms.  Key application areas include media streaming (video, music), and photo displays. This content can be served from the Cloud, a mobile device, or a local network. The architecture also supports multiple mobile devices connecting to a single session, enabling collaborative features like party modes, voting, and content sharing.\n",
            "\n",
            "**New Features and Functionality (600-1200 seconds):**\n",
            "\n",
            "The video showcases features like multi-player games (e.g., Big Web Quiz) and the Chromecast home screen displaying dynamic content.  The Chromecast home screen provides context-aware information to users interacting with their phones. John Affaki, leading the Google Cast SDK team, discusses upcoming features including:\n",
            "\n",
            "*   **Cast to nearby devices:** Allowing casting without requiring devices to be on the same Wi-Fi network.\n",
            "*   **Android TV integration:**  Bringing the same Google Cast functionality found in Chromecast to Android TV, enabling projection of Android apps onto the big screen without requiring extensive developer modifications.\n",
            "*   **Media library improvements:** Including accessibility enhancements for the hearing impaired.\n",
            "\n",
            "**Developer Focus and Future Directions (1200-1800 seconds):**\n",
            "\n",
            "The video focuses on improvements for developers, including:\n",
            "\n",
            "*   **Standardized Queuing API:**  Simplifying the creation, modification, and management of media item queues, replacing the need for individual apps to implement their own solutions.\n",
            "*   **Full Featured Media Controls:**  Providing a consistent experience for interacting with media playback from any device.\n",
            "*   **Secure Credential Transfer:**  Offering a secure method for transferring authentication credentials between sender and receiver for seamless service access within Google Cast. This is integrated with the queuing API, allowing for different credentials for different items in the queue.\n",
            "*   **Improved App Discovery:**  Enhancing app discovery through a redesigned chromecast.com/apps website and an updated developer console for data gathering.\n",
            "*   **Expanding Beyond Media:**  Exploring innovative applications beyond media and gaming and encouraging developers to provide feedback.\n",
            "\n",
            "**Q&A: Addressing Developer Concerns (1800-3000 seconds):**\n",
            "\n",
            "The video transitions to a Q&A session where developers raise various issues:\n",
            "\n",
            "*   **Local Content Streaming:** Addressing how to stream local content to Chromecast by utilizing cloud-accessible URLs. Developers are advised to opt-out of local discovery in the development console.\n",
            "*   **Audio/Video Latency:** Acknowledging the beta status of Android mirroring and efforts to minimize audio and video latency, especially for gaming.\n",
            "*   **HMICEC Control:**  Clarifying that application control is not a platform limitation.\n",
            "*   **Feature Timelines:**  While specific timelines are not provided, it is indicated that closed caption APIs are released, and screen casting/closed captioning within Google Play Services would be rolled out within a few weeks.\n",
            "*   **\"Screensaver\" Integration:** Discussing how the presentation API in Android provides similar functionalities for seamless resumption, though not a full replacement for backdrop functionality.\n",
            "*   **Cross-Domain Policies, Wi-Fi Security, and Android TV Hardware:** Addressing technical questions related to cross-domain policies, Wi-Fi security protocols, and hardware differences between Chromecast and Android TV. The lack of Google Play services on Amazon Kindle Fire is also mentioned.\n",
            "\n",
            "**Conclusion:**\n",
            "\n",
            "The video concludes with the presenters thanking the audience and announcing a Chromecast giveaway, highlighting Google's commitment to fostering a thriving Google Cast developer community. The overall message is that Google Cast is continuously evolving, with a focus on improving user experience, simplifying developer integration, and expanding beyond traditional media applications.\n",
            "\n"
          ]
        }
      ],
      "source": [
        "print(final_summary)"
      ]
    },
    {
      "cell_type": "markdown",
      "id": "0fec5027",
      "metadata": {
        "id": "0fec5027"
      },
      "source": [
        "Let's implement a reduce step that merges intermediatesummaries together:"
      ]
    },
    {
      "cell_type": "code",
      "execution_count": null,
      "id": "8WJIKaWzPziV",
      "metadata": {
        "id": "8WJIKaWzPziV",
        "outputId": "6321f255-f8d4-41f5-fb87-7ecef0e15051"
      },
      "outputs": [
        {
          "name": "stderr",
          "output_type": "stream",
          "text": [
            "/var/folders/5r/vzx_gv654ss9pc9897_bh5nm00gtqf/T/ipykernel_57112/1160931248.py:2: LangChainDeprecationWarning: The class `LLMChain` was deprecated in LangChain 0.1.17 and will be removed in 1.0. Use :meth:`~RunnableSequence, e.g., `prompt | llm`` instead.\n",
            "  reduce_chain = RunnableLambda(lambda x: _merge_summaries(**x)) | LLMChain(llm=llm, prompt=reduce_prompt, output_parser=StrOutputParser())\n"
          ]
        }
      ],
      "source": [
        "from langchain.chains import LLMChain\n",
        "reduce_chain = RunnableLambda(lambda x: _merge_summaries(**x)) | LLMChain(llm=llm, prompt=reduce_prompt, output_parser=StrOutputParser())\n"
      ]
    },
    {
      "cell_type": "code",
      "execution_count": null,
      "id": "mEojnz2AQYK1",
      "metadata": {
        "id": "mEojnz2AQYK1"
      },
      "outputs": [],
      "source": [
        "from langchain_core.runnables import RunnablePassthrough\n",
        "\n",
        "final_chain = (\n",
        "    RunnablePassthrough.assign(summaries=map_step_chain).assign(final_summary=reduce_chain)\n",
        "    | RunnableLambda(lambda x: x[\"final_summary\"])\n",
        ")\n",
        "\n",
        "result = final_chain.invoke({\"video_uri\": video_uri, \"interval_secs\": 300, \"chunks\": 9})"
      ]
    },
    {
      "cell_type": "code",
      "execution_count": null,
      "id": "ppqWxyThTV9s",
      "metadata": {
        "id": "ppqWxyThTV9s",
        "outputId": "0a9a6928-a790-4c29-da06-5de940fa73d2"
      },
      "outputs": [
        {
          "name": "stdout",
          "output_type": "stream",
          "text": [
            "{'summaries': 'Summary from sec 0 to sec 300:\\nSure, here is a summary of the video.\\n\\nThe video “Casting to the Future” by Google I/O details the goals that Google wants to achieve.\\n\\nThe main goals are:\\n- Redefine the interaction model;\\n- Build an ecosystem;\\n- Make it open;\\n- Consistent experience. \\n\\nWith Google Chromecast, the video notes that “Google Cast goes beyond Chromecast” in that Google seeks to extend reach to more devices, and wants consumers to have a choice of devices to use to consume their content. Google also wants developers to build their application using a consistent model for all devices.\\nSummary from sec 300 to sec 600:\\nHere is a summary of the video.\\n\\nThe speaker talks about how easy it is to cast enable apps. All developers need to do is integrate discovery and control with the cast SDK, and their app will be up and running. To make this easy, cast SDK has been enabled across three most popular platforms: Android, iOS and Chrome.\\nThe speaker also shows a chart that suggests homes are using devices on multiple platforms. For example, one person is using an iPhone along with Chrome on a Windows laptop and an Android tablet to watch their favorite content and play music throughout their house.\\nThe most important thing about this casting experience is that its consistent and simple for users on their phone, tablet, and laptop. Also, the experience should be easy to integrate with for developers using HTML 5 for development.\\nSummary from sec 600 to sec 900:\\nThe presenter is speaking on new things in Google Cast.\\n\\nOne example is the quiz app “Big Web Quiz” where players use their phones to select the answers presented to them on the screen.\\n\\nHe then talks of home screens on Chromecast called Backdrop where beautiful pictures are streamed across your TV. People in the room that pull out their phones to interact with the screen will get a card describing what’s on the screen. The presenter mentions people will get different cards and actions based on their behavior, permission, and interests. For example, someone who likes to cook may get actions for French recipes while someone who likes art will see recommendations for virtual tours of the Louvre or Paris art exhibitions.\\n\\nAnother person comes on to talk about an upcoming Google Cast feature, casting to nearby devices. For simplicity of the user, they are attempting to eliminate the need for everyone to be on the same network before connecting to the Chromecast. To enable the feature, you need to go to the Chromecast App device setting and allow casting from nearby devices. \\n\\nOnce people launch the cast-enabled app and are detected, they will play an ultrasonic pin code through the TV speakers which the Chromecast will automatically connect to. The phone and Chromecast exchange a token via this ultrasonic pairing that temporarily pairs the two devices. If the pairing fails (e.g., if the TV is muted or off), the pin code can be manually entered for the same result. If it\\'s backdropped off, the app will ask to look it up on the Chromecast app.\\nSummary from sec 900 to sec 1200:\\nHere is a summary of the video.\\n\\nThis video is from a Google I/O conference. The presenter is talking about the Google Cast SDK. He discusses features, namely: cloud data channeling, using Android TV for casting, Casting your Android screen to a device, enhanced media applications with easier integration, and closed captioning with custom preferences.\\nSummary from sec 1200 to sec 1500:\\nHere\\'s a summary of the video:\\n\\nIn the video, the speaker is addressing developers. The topic revolves around enhancing the Google Cast SDK to support a broader range of applications, focusing on media applications but also including gaming and educational uses. The speaker mentions the addition of a standardized queuing API to the SDK, intending to make it easier for app developers to manage media queues. Also, the Google Cast Developer Console is updated for developers to add information and assets that will be displayed on [chromecast.com/apps](http://chromecast.com/apps).\\nSummary from sec 1500 to sec 1800:\\nCertainly! Here\\'s a summary of the video from 25:00:\\n\\nThe speaker shifts focus to the multi-sender capability of the technology in educational games.  He provides an example that enables a parent to provide help to a child from a second device, which can help the child with the touchscreen experience.\\n\\nNext, he moves beyond the living room to the classroom.  The presenter points out that cast devices in classrooms can make for a more immersive experience, whether for classroom presentations, real-time quizzes, or for drilling down on whatever the teacher is currently presenting, thus keeping students engaged.\\n\\nAfterward, the speaker pivots to enterprise.  The video highlights how using cast devices and remote mode is a daily occurrence within the enterprise, including presentations, video conferences, and even to manage digital signage.\\n\\nHe concludes by stating that there is still plenty of room for innovative, fresh, and impactful apps, and welcomes feedback for improvements. The video lists website addresses that provide further information regarding Google Cast.  Then, the speaker answers questions from the audience.\\nSummary from sec 1800 to sec 2100:\\nHere is a summary of the video segment:\\nThe video is of two presenters, standing in front of a gray curtain, answering questions from the audience, The topics addressed in the questions are:\\n1. Dell released a USB/HDMI stick that runs a computer, so could Chromecast ever become an everywhere platform?\\n2. A question about streaming local content, without using Wi-Fi.\\n3. A question about casting from a desktop, but not using Chrome. It is said, \"We continue to investigate. It is an experimental feature.\"\\n4. Is Chromecast looking into supporting image and slideshow primitives?\\n5. Will there ever be multiple stream support, because photos are boring without music? It was said, \"There are no plans to run two applications in parallel. However, you can add images to a queue for Chromecast to cycle through.\"\\nSummary from sec 2100 to sec 2400:\\nHere is a summary of the video:\\n\\nTwo men are standing in front of a curtain backdrop and responding to questions about Chromecast development and user experience.\\xa0\\n\\nThe first question relates to Android TV and the capability of streaming music while streaming photos simultaneously, and the response relates to it being difficult to pause one without also pausing the other.\\n\\nThe second question relates to the audio/visual latency for the new mirroring feature from Android to Chromecast, and the respondents state that there is no timeline to publish.\\n\\nThe third question relates to any issues with applications losing data while switching screens, and the respondents reply that the problem is under review by the team.\\n\\nThe fourth question relates to individual applications’ capabilities to disable screen mirroring and the reply indicates that applications can control this from the Android presentation API.\\n\\nThe fifth question relates to adding media controls from Android TV remotes to Chromecast, and if the same could happen with HDMI-CEC on old Chromecasts.\\n\\nThe sixth question relates to any expected updates to video file types that Chromecast supports and the answer given is that it is a hardware limitation of what code can be supported, but they are adding support for more container and transport streams.\\xa0\\n\\nThe final question relates to the speaker wishing to be able to hear the music from the TV while it is also playing on his phone through the speaker. It is stated that this is challenging with WIFI, but it is being worked on by the development team and may require a silver bullet to solve the challenge.\\nSummary from sec 2400 to sec 2700:\\nHere is a summary of the information shared in the video. \\nThe video shows two men on stage answering questions about Android TV and ChromeCast and future software and hardware.\\nFirst question is about Chrome domain policies and plans to lower restrictions. The man with the glasses explains that the restrictions will remain, as they are committed to the Web Development model.\\nThe second question involves 5G and Enterprise Security. The man without glasses replies that he can\\'t speak about future hardware, but they are interested in the question.\\nThe third question is about hardware capabilities and codec support. The man without glasses explains that it will be identical, and hardware requirements in terms of codec, DRM and streaming is part of Android TV requirements.\\nThe next question involves the use of non-google play with Kindal Fire. The man without glasses explains that is it not possible. The SDK is part of the Google Play services, and is not available on Kindal.\\nBefore they leave, the man without glasses mentions that they are giving away free Chrome Cast at the corner.\\n', 'text': 'Okay, here\\'s a comprehensive summary of the entire video, piecing together the information from the individual summaries you provided:\\n\\n**Overall Summary: \"Casting to the Future\" - Expanding Google Cast and Chromecast**\\n\\nThis Google I/O video, titled \"Casting to the Future,\" focuses on Google\\'s vision for Google Cast and Chromecast, encompassing its current capabilities, future directions, and developer-focused enhancements.  The core message is expanding the reach of Google Cast beyond Chromecast, building a robust ecosystem, and providing a consistent and open platform for developers and users.\\n\\n**Key Topics Covered:**\\n\\n*   **Google\\'s Vision and Goals (0:00 - 300):** Google aims to redefine the interaction model for content consumption, build a thriving ecosystem around Google Cast, maintain an open platform, and ensure a consistent user experience across various devices. Google Cast is positioned as going beyond Chromecast, extending its reach to more devices and providing consumers with choice.\\n*   **Developer Focus and Ease of Integration (300 - 600):** The video highlights the simplicity of cast-enabling apps using the Google Cast SDK. The SDK is available on Android, iOS, and Chrome, allowing developers to integrate discovery and control features easily. The emphasis is on a consistent and simple experience for users across phones, tablets, and laptops, and easy integration for developers using HTML5.\\n*   **New Features and Capabilities (600 - 900):**\\n    *   **Interactive Experiences:** Examples like the \"Big Web Quiz\" are showcased, demonstrating how phones can be used as controllers for on-screen experiences.\\n    *   **Backdrop:** Chromecast\\'s home screen feature, \"Backdrop,\" displays beautiful pictures and provides contextual information and actions based on user interests and behavior.\\n    *   **Casting to Nearby Devices:** A new feature is introduced to simplify casting by eliminating the requirement for devices to be on the same network. This utilizes ultrasonic pairing or manual PIN entry for secure connection.\\n*   **Google Cast SDK Enhancements (900 - 1500):**\\n    *   The Google Cast SDK is being expanded to support a wider range of applications.\\n    *   Features discussed include cloud data channeling, using Android TV for casting, screen casting, improved media application integration, and customisable closed captioning.\\n    * Standardized queuing API to better manage media queues\\n    * Google Cast Developer Console updated for developers to add information and assets that will be displayed on [chromecast.com/apps](http://chromecast.com/apps).\\n*   **Expanding Use Cases (1500 - 1800):**\\n    *   **Education:** The video explores the use of Google Cast in educational settings, including multi-sender capabilities for parent-child interaction and immersive classroom presentations.\\n    *   **Enterprise:** Google Cast is highlighted as a tool for presentations, video conferences, and digital signage in enterprise environments.\\n*   **Q&A Sessions (1800 - 2700):** The majority of the latter part of the video consists of Q&A sessions with Google engineers, addressing questions about:\\n    *   **Future Hardware:** Questions address the potential for Chromecast to evolve into a more comprehensive platform. Also, possible enterprise security integrations.\\n    *   **Streaming and Connectivity:** Topics included streaming local content without Wi-Fi, casting from desktop without using Chrome, 5G questions.\\n    *   **Features and Functionality:** Discussions cover image and slideshow support, multiple stream support, and Android TV integration.\\n    *   **Technical Aspects:** Questions delve into audio/visual latency, data loss during screen switching, screen mirroring control, media controls on Android TV remotes, and supported video file types.\\n    * **Restrictions on Chrome domain Policies**\\n    * **Non-google play use with Kindal Fire is not possible**\\n\\n**Overall Conclusion:**\\n\\nThe video \"Casting to the Future\" paints a picture of Google\\'s commitment to Google Cast and Chromecast.  It showcases advancements in the platform, its expanding use cases across various environments, and the ongoing efforts to improve the developer experience.  The Q&A sessions offer valuable insights into the challenges and future directions of the technology, emphasizing Google\\'s continued investment in the ecosystem.\\n'}\n"
          ]
        }
      ],
      "source": [
        "result = final_chain.invoke({\"video_uri\": video_uri, \"interval_secs\": 300, \"chunks\": 9})\n",
        "print(result)"
      ]
    },
    {
      "cell_type": "markdown",
      "id": "pXJNqzpsYMxz",
      "metadata": {
        "id": "pXJNqzpsYMxz"
      },
      "source": [
        "## Using LangGraph"
      ]
    },
    {
      "cell_type": "markdown",
      "id": "doF3XfG-YOgj",
      "metadata": {
        "id": "doF3XfG-YOgj"
      },
      "source": [
        "Let's implement the same logic using LangGraph:"
      ]
    },
    {
      "cell_type": "code",
      "execution_count": null,
      "id": "abq7Nb0hYPU0",
      "metadata": {
        "id": "abq7Nb0hYPU0"
      },
      "outputs": [],
      "source": [
        "import operator\n",
        "from typing_extensions import TypedDict\n",
        "from typing import Annotated\n",
        "from langgraph.constants import Send\n",
        "from langgraph.graph import StateGraph, START, END\n",
        "\n",
        "\n",
        "class AgentState(TypedDict):\n",
        "    video_uri: str\n",
        "    chunks: int\n",
        "    interval_secs: int\n",
        "    summaries: Annotated[list, operator.add]\n",
        "    final_summary: str\n",
        "\n",
        "class _ChunkState(TypedDict):\n",
        "    video_uri: str\n",
        "    start_offset: int\n",
        "    interval_secs: int\n",
        "\n",
        "\n",
        "human_part = {\"type\": \"text\", \"text\": \"Provide a summary of the video.\"}\n",
        "\n",
        "async def _summarize_video_chunk(state:  _ChunkState):\n",
        "    start_offset = state[\"start_offset\"]\n",
        "    interval_secs = state[\"interval_secs\"]\n",
        "    video_part = {\n",
        "        \"type\": \"media\", \"file_uri\": state[\"video_uri\"], \"mime_type\": \"video/mp4\",\n",
        "        \"video_metadata\": {\n",
        "            \"start_offset\": {\"seconds\": start_offset*interval_secs},\n",
        "            \"end_offset\": {\"seconds\": (start_offset+1)*interval_secs}}\n",
        "    }\n",
        "    response = await llm.ainvoke(\n",
        "        [HumanMessage(content=[human_part, video_part])])\n",
        "    return {\"summaries\": [response.content]}\n",
        "\n",
        "def _map_summaries(state: AgentState):\n",
        "    chunks = state[\"chunks\"]\n",
        "    payloads = [\n",
        "        {\n",
        "            \"video_uri\": state[\"video_uri\"],\n",
        "            \"interval_secs\": state[\"interval_secs\"],\n",
        "            \"start_offset\": i\n",
        "        } for i in range(state[\"chunks\"])\n",
        "    ]\n",
        "    return [Send(\"summarize_video_chunk\", payload) for payload in payloads]\n",
        "\n",
        "async def _generate_final_summary(state: AgentState):\n",
        "    summary = _merge_summaries(\n",
        "        summaries=state[\"summaries\"], interval_secs=state[\"interval_secs\"])\n",
        "    final_summary = await (reduce_prompt | llm | StrOutputParser()).ainvoke({\"summaries\": summary})\n",
        "    return {\"final_summary\": final_summary}\n",
        "\n",
        "graph = StateGraph(AgentState)\n",
        "graph.add_node(\"summarize_video_chunk\", _summarize_video_chunk)\n",
        "graph.add_node(\"generate_final_summary\", _generate_final_summary)\n",
        "\n",
        "graph.add_conditional_edges(START, _map_summaries, [\"summarize_video_chunk\"])\n",
        "graph.add_edge(\"summarize_video_chunk\", \"generate_final_summary\")\n",
        "graph.add_edge(\"generate_final_summary\", END)\n",
        "\n",
        "app = graph.compile()"
      ]
    },
    {
      "cell_type": "code",
      "execution_count": null,
      "id": "ifyjcuIjYPW6",
      "metadata": {
        "colab": {
          "base_uri": "https://localhost:8080/",
          "height": 350
        },
        "id": "ifyjcuIjYPW6",
        "outputId": "778d079e-95fe-4c69-9158-f484788ab904"
      },
      "outputs": [
        {
          "data": {
            "image/png": "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",
            "text/plain": [
              "<IPython.core.display.Image object>"
            ]
          },
          "execution_count": 13,
          "metadata": {},
          "output_type": "execute_result"
        }
      ],
      "source": [
        "from IPython.display import Image\n",
        "\n",
        "Image(app.get_graph().draw_mermaid_png())"
      ]
    },
    {
      "cell_type": "code",
      "execution_count": null,
      "id": "bQNNZ3jH5Ts9",
      "metadata": {
        "id": "bQNNZ3jH5Ts9",
        "outputId": "1dcfb447-5da9-4f9b-8404-30654c568332"
      },
      "outputs": [
        {
          "name": "stdout",
          "output_type": "stream",
          "text": [
            "Okay, here's a comprehensive summary of the entire video, synthesized from the individual section summaries:\n",
            "\n",
            "**Overall Video Summary:**\n",
            "\n",
            "The video features Google Engineers Majid Abakar and John Afaki discussing the evolution of Google Cast and its future direction. They highlight Google Cast's goals: redefining TV interaction, offering compelling large-screen experiences, building an open and consistent ecosystem for both users and developers.\n",
            "\n",
            "The presentation covers several key areas:\n",
            "\n",
            "*   **Introduction to Google Cast:** It started with Chromecast for $35 and now encompasses a broader vision of bringing content to the largest screen possible using mobile devices as controllers.\n",
            "*   **Interaction Model:** Focuses on seamless content consumption on large screens, leveraging mobile device portability. The user can use the cloud, their mobile device or the local cloud on other devices. With the ability to connect multiple mobile devices to a single session, this media app can bring great use cases such as party mode, voting and sharing content.\n",
            "*   **Developer Focus:** Emphasizes ease of development using HTML5 and JavaScript, with UX guidelines for consistent user experiences.\n",
            "*   **New Features and Updates:**\n",
            "    *   Casting to nearby devices without Wi-Fi using location and ultrasound.\n",
            "    *   Android TV integration with Cast functionalities.\n",
            "    *   Updated Google Cast SDK supporting Smooth Stream, Dash, and HLS.\n",
            "    *   Enhanced Closed Captioning support.\n",
            "    *   Unified queue management API with functions for insert, remove, and reorder.\n",
            "    *   Media controls on mobile devices for interacting with playing media even without the app.\n",
            "    *   Improved app discovery through a redesigned Chromecast.com/apps website and a new developer console.\n",
            "*   **Beyond Media:** Explores uses beyond media, including games, education, and business applications like presentations and digital signage.\n",
            "*   **Q&A Session:**\n",
            "    *   Discusses streaming local vs. foreign content.\n",
            "    *   Addresses user opt-out of local discovery.\n",
            "    *   Mentions casting from a desktop (experimental feature).\n",
            "    *   Discusses primitives for images and slideshows.\n",
            "    *   Explores the possibility of playing music and streaming photos simultaneously on Android TV (currently not planned).\n",
            "    *   Addresses audio and video latency with Android mirroring (goal of low latency).\n",
            "    *   Covers the option for individual applications to disable video display on the big screen (system function controlled at the level of protection).\n",
            "    *   Confirms Cross Domain Auth is not going away.\n",
            "    *   Mentions considerations for 5 GHz support (cannot discuss future hardware).\n",
            "    *   States codec support will be identical on Chromecast and Android TV.\n",
            "    *   Addresses Kindle Fire compatibility (SDK not available due to Google Play Services dependency).\n",
            "\n",
            "The video concludes with the announcement of free Chromecasts being given away. In essence, the video provides an overview of Google Cast's current state, future enhancements, and its expanding role in various application areas.\n",
            "\n"
          ]
        }
      ],
      "source": [
        "result = await app.ainvoke(\n",
        "    {\"video_uri\": video_uri, \"chunks\": 5, \"interval_secs\": 600},\n",
        "    {\"max_concurrency\": 3}\n",
        ")\n",
        "print(result[\"final_summary\"])"
      ]
    },
    {
      "cell_type": "code",
      "execution_count": null,
      "id": "1zGvMUraxexs",
      "metadata": {
        "colab": {
          "base_uri": "https://localhost:8080/"
        },
        "id": "1zGvMUraxexs",
        "outputId": "7fb420f7-cb08-41b9-9e89-1a7a61ca3d82"
      },
      "outputs": [
        {
          "name": "stdout",
          "output_type": "stream",
          "text": [
            "['summarize_video_chunk']\n",
            "['summarize_video_chunk']\n",
            "['summarize_video_chunk']\n",
            "['summarize_video_chunk']\n",
            "['summarize_video_chunk']\n",
            "['generate_final_summary']\n"
          ]
        }
      ],
      "source": [
        "async for step in app.astream(\n",
        "    {\"video_uri\": video_uri, \"chunks\": 5, \"interval_secs\": 600},\n",
        "    {\"recursion_limit\": 10},\n",
        "):\n",
        "    print(list(step.keys()))"
      ]
    },
    {
      "cell_type": "markdown",
      "id": "pLER-9NAZeO-",
      "metadata": {
        "id": "pLER-9NAZeO-"
      },
      "source": [
        "Let's look at the final summary:"
      ]
    },
    {
      "cell_type": "code",
      "execution_count": null,
      "id": "f6aNAwbDYPZI",
      "metadata": {
        "colab": {
          "base_uri": "https://localhost:8080/",
          "height": 157
        },
        "id": "f6aNAwbDYPZI",
        "outputId": "a6790dfb-5c40-448f-dc80-430c750ac043"
      },
      "outputs": [
        {
          "data": {
            "text/plain": [
              "\"Okay, here's a comprehensive summary of the entire video, synthesized from the individual section summaries:\\n\\n**Overall Video Summary:**\\n\\nThe video features Google Engineers Majid Abakar and John Afaki discussing the evolution of Google Cast and its future direction. They highlight Google Cast's goals: redefining TV interaction, offering compelling large-screen experiences, building an open and consistent ecosystem for both users and developers.\\n\\nThe presentation covers several key areas:\\n\\n*   **Introduction to Google Cast:** It started with Chromecast for $35 and now encompasses a broader vision of bringing content to the largest screen possible using mobile devices as controllers.\\n*   **Interaction Model:** Focuses on seamless content consumption on large screens, leveraging mobile device portability. The user can use the cloud, their mobile device or the local cloud on other devices. With the ability to connect multiple mobile devices to a single session, this media app can bring great use cases such as party mode, voting and sharing content.\\n*   **Developer Focus:** Emphasizes ease of development using HTML5 and JavaScript, with UX guidelines for consistent user experiences.\\n*   **New Features and Updates:**\\n    *   Casting to nearby devices without Wi-Fi using location and ultrasound.\\n    *   Android TV integration with Cast functionalities.\\n    *   Updated Google Cast SDK supporting Smooth Stream, Dash, and HLS.\\n    *   Enhanced Closed Captioning support.\\n    *   Unified queue management API with functions for insert, remove, and reorder.\\n    *   Media controls on mobile devices for interacting with playing media even without the app.\\n    *   Improved app discovery through a redesigned Chromecast.com/apps website and a new developer console.\\n*   **Beyond Media:** Explores uses beyond media, including games, education, and business applications like presentations and digital signage.\\n*   **Q&A Session:**\\n    *   Discusses streaming local vs. foreign content.\\n    *   Addresses user opt-out of local discovery.\\n    *   Mentions casting from a desktop (experimental feature).\\n    *   Discusses primitives for images and slideshows.\\n    *   Explores the possibility of playing music and streaming photos simultaneously on Android TV (currently not planned).\\n    *   Addresses audio and video latency with Android mirroring (goal of low latency).\\n    *   Covers the option for individual applications to disable video display on the big screen (system function controlled at the level of protection).\\n    *   Confirms Cross Domain Auth is not going away.\\n    *   Mentions considerations for 5 GHz support (cannot discuss future hardware).\\n    *   States codec support will be identical on Chromecast and Android TV.\\n    *   Addresses Kindle Fire compatibility (SDK not available due to Google Play Services dependency).\\n\\nThe video concludes with the announcement of free Chromecasts being given away. In essence, the video provides an overview of Google Cast's current state, future enhancements, and its expanding role in various application areas.\\n\""
            ]
          },
          "execution_count": 18,
          "metadata": {},
          "output_type": "execute_result"
        }
      ],
      "source": [
        "result[\"final_summary\"]"
      ]
    }
  ],
  "metadata": {
    "colab": {
      "name": "Chapter 2.3",
      "provenance": []
    },
    "kernelspec": {
      "display_name": "Python 3 (ipykernel)",
      "language": "python",
      "name": "python3"
    }
  },
  "nbformat": 4,
  "nbformat_minor": 5
}
=======
 "cells": [
  {
   "cell_type": "markdown",
   "id": "93aae01b",
   "metadata": {},
   "source": [
    "#sing LangGraph\n",
    "Let's implement the same logic using LangGraph:\n"
   ]
  },
  {
   "cell_type": "code",
   "execution_count": null,
   "id": "818e6384",
   "metadata": {},
   "outputs": [],
   "source": [
    "!pip install --upgrade google-cloud-aiplatform langchain-google-vertexai\n",
    "\n",
    "# !gcloud auth application-default login\n",
    "# !gcloud auth application-default set-quota-project gen-lang-client-0967807610"
   ]
  },
  {
   "cell_type": "code",
   "execution_count": null,
   "id": "25294b5b",
   "metadata": {},
   "outputs": [
    {
     "name": "stdout",
     "output_type": "stream",
     "text": [
      "['Sure! Here’s a summary of the video.\\n\\nThe video features a man unboxing and demonstrating a LOOI, a smartphone desktop robot. The LOOI is a phone charger and stand with a face display that can recognize certain shapes, movements, and commands. After placing a phone on the LOOI, the robot attempts to capture facial data, and after that, it will identify and respond to the owner. The robot is also able to tell you the weather, to name just one use of its artificial intelligence. The man in the video concludes the demonstration by noting it is a cool idea, and ranks it as a good choice for a desktop pet.', 'Please provide me with the video you\\'d like me to summarize! I need the link to the video, the title, or some way to access it in order to provide you with an accurate summary. \\n\\nFor example, you could say:\\n\\n* \"Summarize this video: [YouTube Link]\"\\n* \"Summarize the Ted Talk titled \\'How to Make Stress Your Friend\\'\"\\n* \"Summarize the news report on CNN about the recent hurricane.\"\\n\\nOnce you give me the video information, I can help!\\n']\n"
     ]
    }
   ],
   "source": [
    "video_uri = \"https://www.youtube.com/watch?v=8CJ698voKy0\"\n",
    "\n",
    "from langchain_core.messages import HumanMessage\n",
    "from langchain_core.output_parsers import StrOutputParser\n",
    "from langchain_google_vertexai import ChatVertexAI\n",
    "\n",
    "human_part = {\"type\": \"text\", \"text\": \"Provide a summary of the video.\"}\n",
    "\n",
    "\n",
    "def _create_input_messages(\n",
    "    *, video_uri: str, chunks: int = 5, interval_secs: int = 600\n",
    ") -> list[list[HumanMessage]]:\n",
    "    video_parts = []\n",
    "    for start_offset in range(chunks):\n",
    "        part = {\n",
    "            \"type\": \"media\",\n",
    "            \"file_uri\": video_uri,\n",
    "            \"mime_type\": \"video/mp4\",\n",
    "            \"video_metadata\": {\n",
    "                \"start_offset\": {\"seconds\": start_offset * interval_secs},\n",
    "                \"end_offset\": {\"seconds\": (start_offset + 1) * interval_secs},\n",
    "            },\n",
    "        }\n",
    "        video_parts.append(part)\n",
    "    return [[HumanMessage(content=[human_part, vp])] for vp in video_parts]\n",
    "\n",
    "\n",
    "input_messages = _create_input_messages(video_uri=video_uri)\n",
    "llm = ChatVertexAI(model=\"gemini-2.0-flash-001\")\n",
    "map_chain = llm | StrOutputParser()\n",
    "\n",
    "summaries = map_chain.batch(input_messages, config={\"max_concurrency\": 3})\n",
    "print(summaries)"
   ]
  },
  {
   "cell_type": "code",
   "execution_count": 3,
   "id": "14dda2ff",
   "metadata": {},
   "outputs": [],
   "source": [
    "from langchain_core.runnables import RunnableLambda\n",
    "\n",
    "create_inputs_chain = RunnableLambda(lambda x: _create_input_messages(**x))\n",
    "map_step_chain = create_inputs_chain | RunnableLambda(\n",
    "    lambda x: map_chain.batch(x, config={\"max_concurrency\": 3})\n",
    ")\n",
    "summaries = map_step_chain.invoke({\"video_uri\": video_uri})"
   ]
  },
  {
   "cell_type": "code",
   "execution_count": 6,
   "id": "dc4a04b7",
   "metadata": {},
   "outputs": [
    {
     "name": "stdout",
     "output_type": "stream",
     "text": [
      "['The video is a product review for a desk robot called LOOI: Your Smartphone Desktop Robot.  It’s an unboxing, a demonstration of how it works, and thoughts on its efficacy.\\n\\nThe LOOI is a desktop charging stand that functions as a pet and AI helper.  It utilizes a phone and app to display emotion, respond to voice commands, and connect with other devices.  The reviewer demonstrates the LOOI’s face-recognition skills, how it responds to gestures, and how it’s obstacle avoidance abilities work.\\n\\nWhile he finds its concept intriguing, he notes that the robotic voice could be improved and that a flaw is needing to attach your phone to the device during use.\\n He concludes that the LOOI is more of an emotional support and companion AI robot than an actual useful assistant.', 'Please provide me with the video you would like me to summarize. I need the video itself or at least a link to it in order to provide you with a summary.\\n', 'Please provide me with the name of the video or a link to it! I need that information to be able to watch the video and give you a summary.\\n', 'Please provide me with the video you\\'d like me to summarize. I need the video link, a description of the video, or at least the title to be able to give you a summary. \\n\\nFor example, you could say:\\n\\n* \"Summarize this video: [YouTube link]\"\\n* \"Summarize the video titled \\'How to Bake a Chocolate Cake\\'.\"\\n* \"Summarize the video about the history of the Roman Empire by Extra Credits.\"\\n\\nOnce you give me that information, I can help!\\n', \"Please provide me with the video you'd like me to summarize! I need the content of the video to give you a summary. Tell me:\\n\\n*   **Where can I find the video?** (e.g., YouTube link, website link, name of the video on a specific platform)\\n*   **If you can't provide a link, describe the video's content in as much detail as possible.** (e.g., the topic, the people involved, the main points being made, the overall tone)\\n\\nOnce I have that information, I can provide you with a helpful summary.\\n\"]\n"
     ]
    }
   ],
   "source": [
    "print(summaries)"
   ]
  },
  {
   "cell_type": "markdown",
   "id": "ac8afc81",
   "metadata": {},
   "source": [
    "Let's define a function to merge summaries together:\n"
   ]
  },
  {
   "cell_type": "code",
   "execution_count": 9,
   "id": "87eb8beb",
   "metadata": {},
   "outputs": [
    {
     "name": "stdout",
     "output_type": "stream",
     "text": [
      "The video is a product review of the LOOI: Your Smartphone Desktop Robot. The reviewer unboxes and demonstrates the LOOI, a desktop charging stand that uses a phone and app to function as a pet and AI helper. It displays emotions, responds to voice commands, and connects with other devices. The review highlights the LOOI's face-recognition, gesture response, and obstacle avoidance capabilities. While the reviewer is intrigued by the concept, they note the robotic voice could be improved and the need to attach a phone during use is a flaw. The reviewer concludes the LOOI is better suited as an emotional support and companion AI robot rather than a practical assistant. The remaining sections of the transcript indicate a need for the video's content to provide further summaries, implying the video was not provided.\n",
      "\n"
     ]
    }
   ],
   "source": [
    "from langchain_core.prompts import PromptTemplate\n",
    "\n",
    "\n",
    "def _merge_summaries(summaries: list[str], interval_secs: int = 600, **kwargs) -> str:\n",
    "    sub_summaries = []\n",
    "    for i, summary in enumerate(summaries):\n",
    "        sub_summary = (\n",
    "            f\"Summary from sec {i*interval_secs} to sec {(i + 1) * interval_secs}:\\n\"\n",
    "            f\"{summary}\\n\"\n",
    "        )\n",
    "        sub_summaries.append(sub_summary)\n",
    "    return \"\".join(sub_summaries)\n",
    "\n",
    "\n",
    "reduce_prompt = PromptTemplate.from_template(\n",
    "    \"You are given a list of summaries that of a video splitted into sequential pieces.\\n\"\n",
    "    \"SUMMARIES:\\n{summaries}\"\n",
    "    \"Based on that, prepare a summary of a whole video.\"\n",
    ")\n",
    "\n",
    "reduce_chain = (\n",
    "    RunnableLambda(lambda x: _merge_summaries(**x))\n",
    "    | reduce_prompt\n",
    "    | llm\n",
    "    | StrOutputParser()\n",
    ")\n",
    "\n",
    "final_summary = reduce_chain.invoke({\"summaries\": summaries})\n",
    "print(final_summary)"
   ]
  },
  {
   "cell_type": "code",
   "execution_count": 14,
   "id": "efa3f5e8",
   "metadata": {},
   "outputs": [],
   "source": [
    "from typing_extensions import Annotated, TypedDict\n",
    "import operator\n",
    "from langchain_core.messages import HumanMessage\n",
    "from langgraph.constants import Send\n",
    "\n",
    "\n",
    "class AgentState(TypedDict):\n",
    "    video_uri: str\n",
    "    chunks: int\n",
    "    interval_secs: int\n",
    "    summaries: Annotated[list, operator.add]\n",
    "    final_summary: str\n",
    "\n",
    "\n",
    "class _ChunkState(TypedDict):\n",
    "    video_uri: str\n",
    "    start_offset: int\n",
    "    interval_secs: int"
   ]
  },
  {
   "cell_type": "code",
   "execution_count": null,
   "id": "fc5943be",
   "metadata": {},
   "outputs": [],
   "source": [
    "from langgraph.types import Send\n",
    "\n",
    "\n",
    "human_part = {\"type\": \"text\", \"text\": \"Provide a summary of the video.\"}\n",
    "\n",
    "\n",
    "async def _summarize_video_chunk(state: _ChunkState):\n",
    "    start_offset = state[\"start_offset\"]\n",
    "    interval_secs = state[\"interval_secs\"]\n",
    "    video_part = {\n",
    "        \"type\": \"media\",\n",
    "        \"file_uri\": state[\"video_uri\"],\n",
    "        \"mime_type\": \"video/mp4\",\n",
    "        \"video_metadata\": {\n",
    "            \"start_offset\": {\"seconds\": start_offset * interval_secs},\n",
    "            \"end_offset\": {\"seconds\": (start_offset + 1) * interval_secs},\n",
    "        },\n",
    "    }\n",
    "    response = await llm.ainvoke([HumanMessage(content=[human_part, video_part])])\n",
    "    return {\"summaries\": [response.content]}\n",
    "\n",
    "\n",
    "async def _generate_final_summary(state: AgentState):\n",
    "    summary = _merge_summaries(\n",
    "        summaries=state[\"summaries\"],\n",
    "        interval_secs=state[\"interval_secs\"],\n",
    "    )\n",
    "\n",
    "    final_summary = await (reduce_prompt | llm | StrOutputParser()).ainvoke(\n",
    "        {\"summaries\": summary}\n",
    "    )\n",
    "    return {\"final_summary\": final_summary}\n",
    "\n",
    "\n",
    "def _map_summaries(state: AgentState) -> list[Send]:\n",
    "    chunks = state[\"chunks\"]\n",
    "    payloads = [\n",
    "        {\n",
    "            \"video_uri\": state[\"video_uri\"],\n",
    "            \"start_offset\": i,\n",
    "            \"interval_secs\": state[\"interval_secs\"],\n",
    "        }\n",
    "        for i in range(chunks)\n",
    "    ]\n",
    "    return [Send(\"summarize_video_chunk\", payload) for payload in payloads]"
   ]
  },
  {
   "cell_type": "code",
   "execution_count": 18,
   "id": "0f4d931e",
   "metadata": {},
   "outputs": [],
   "source": [
    "from langgraph.graph import StateGraph, START, END\n",
    "\n",
    "video_uri = \"https://www.youtube.com/watch?v=N4H22nnyr6c\"\n",
    "\n",
    "graph = StateGraph(AgentState)\n",
    "graph.add_node(\"summarize_video_chunk\", _summarize_video_chunk)\n",
    "graph.add_node(\"generate_final_summary\", _generate_final_summary)\n",
    "graph.add_conditional_edges(START, _map_summaries, [\"summarize_video_chunk\"])\n",
    "\n",
    "graph.add_edge(\"summarize_video_chunk\", \"generate_final_summary\")\n",
    "graph.add_edge(\"generate_final_summary\", END)\n",
    "\n",
    "app = graph.compile()\n",
    "\n",
    "# result = app.invoke(\n",
    "#     {\"video_uri\": video_uri, \"chunks\": 5, \"interval_secs\": 600}, {\"max_concurrency\": 3}\n",
    "# )[\"final_summary\"]"
   ]
  },
  {
   "cell_type": "code",
   "execution_count": 19,
   "id": "e0085574",
   "metadata": {},
   "outputs": [
    {
     "data": {
      "image/png": "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",
      "text/plain": [
       "<IPython.core.display.Image object>"
      ]
     },
     "execution_count": 19,
     "metadata": {},
     "output_type": "execute_result"
    }
   ],
   "source": [
    "from IPython.display import Image\n",
    "\n",
    "Image(app.get_graph().draw_mermaid_png())"
   ]
  }
 ],
 "metadata": {
  "kernelspec": {
   "display_name": ".venv",
   "language": "python",
   "name": "python3"
  },
  "language_info": {
   "codemirror_mode": {
    "name": "ipython",
    "version": 3
   },
   "file_extension": ".py",
   "mimetype": "text/x-python",
   "name": "python",
   "nbconvert_exporter": "python",
   "pygments_lexer": "ipython3",
   "version": "3.12.4"
  }
 },
 "nbformat": 4,
 "nbformat_minor": 5
}
>>>>>>> Stashed changes
