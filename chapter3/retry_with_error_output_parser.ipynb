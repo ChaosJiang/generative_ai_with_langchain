{
 "cells": [
  {
   "cell_type": "markdown",
   "id": "a389e261",
   "metadata": {},
   "source": [
    "First, we need to define an LLM:"
   ]
  },
  {
   "cell_type": "code",
   "execution_count": 1,
   "id": "cc91ece8",
   "metadata": {},
   "outputs": [],
   "source": [
    "from langchain_google_vertexai import ChatVertexAI\n",
    "\n",
    "llm = ChatVertexAI(model_name=\"gemini-2.5-flash-lite\")"
   ]
  },
  {
   "cell_type": "markdown",
   "id": "95b2aedb",
   "metadata": {},
   "source": [
    "Now, let's define our toy Pydantic model and let's assume we got an invalid output that can't parsed:"
   ]
  },
  {
   "cell_type": "code",
   "execution_count": 2,
   "id": "d94c75bf",
   "metadata": {},
   "outputs": [
    {
     "name": "stdout",
     "output_type": "stream",
     "text": [
      "Invalid json output: {'action': 'what is the weather like in Munich tomorrow}\n",
      "For troubleshooting, visit: https://python.langchain.com/docs/troubleshooting/errors/OUTPUT_PARSING_FAILURE \n"
     ]
    }
   ],
   "source": [
    "from langchain.output_parsers import RetryWithErrorOutputParser, PydanticOutputParser\n",
    "from langchain.prompts import PromptTemplate\n",
    "from pydantic import BaseModel, Field\n",
    "\n",
    "\n",
    "class SearchAction(BaseModel):\n",
    "    query: str = Field(description=\"A query to search for if a search action is taken\")\n",
    "\n",
    "\n",
    "parser = PydanticOutputParser(pydantic_object=SearchAction)\n",
    "\n",
    "completion_with_error = \"{'action': 'what is the weather like in Munich tomorrow}\"\n",
    "\n",
    "try:\n",
    "    parser.parse(completion_with_error)\n",
    "except Exception as e:\n",
    "    print(e)"
   ]
  },
  {
   "cell_type": "markdown",
   "id": "9c77e77d",
   "metadata": {},
   "source": [
    "Let's define our output parser with retry (it's based on the original parser):"
   ]
  },
  {
   "cell_type": "code",
   "execution_count": 3,
   "id": "ad7b5b02",
   "metadata": {},
   "outputs": [],
   "source": [
    "fix_parser = RetryWithErrorOutputParser.from_llm(llm=llm, parser=parser)"
   ]
  },
  {
   "cell_type": "markdown",
   "id": "54d35fd0",
   "metadata": {},
   "source": [
    "We can inspect the default retry prompt it's using:"
   ]
  },
  {
   "cell_type": "code",
   "execution_count": 4,
   "id": "2c6c9b8d",
   "metadata": {},
   "outputs": [
    {
     "name": "stdout",
     "output_type": "stream",
     "text": [
      "input_variables=['completion', 'prompt'] input_types={} partial_variables={} template='Prompt:\\n{prompt}\\nCompletion:\\n{completion}\\n\\nAbove, the Completion did not satisfy the constraints given in the Prompt.\\nPlease try again:'\n"
     ]
    }
   ],
   "source": [
    "from langchain.output_parsers.retry import NAIVE_RETRY_PROMPT\n",
    "\n",
    "print(NAIVE_RETRY_PROMPT)"
   ]
  },
  {
   "cell_type": "markdown",
   "id": "8ab401a0",
   "metadata": {},
   "source": [
    "The last step, we need to define a template for the prompt value to be substituted in the default prompt:"
   ]
  },
  {
   "cell_type": "code",
   "execution_count": 5,
   "id": "fd5a5f00",
   "metadata": {},
   "outputs": [],
   "source": [
    "retry_template = (\n",
    "    \"Your previous response doesn't follow the required schema and fails parsing. Fix the response so that it follow the expected schema.\"\n",
    "    \"Do not change the nature of response, only adjust the schema.\"\n",
    "    \"\\n\\nEXPECTED SCHEMA:{schema}\\n\\n\"\n",
    ")\n",
    "retry_prompt = PromptTemplate.from_template(retry_template)"
   ]
  },
  {
   "cell_type": "markdown",
   "id": "2af513d5",
   "metadata": {},
   "source": [
    "Now, let's run our parser and we'll see that the output was fixed behind the scenes:"
   ]
  },
  {
   "cell_type": "code",
   "execution_count": 6,
   "id": "236031cc",
   "metadata": {},
   "outputs": [],
   "source": [
    "fixed_output = fix_parser.parse_with_prompt(\n",
    "    completion=completion_with_error,\n",
    "    prompt_value=retry_prompt.format_prompt(schema=parser.get_format_instructions()),\n",
    ")"
   ]
  },
  {
   "cell_type": "code",
   "execution_count": null,
   "id": "e400d41f",
   "metadata": {},
   "outputs": [
    {
     "data": {
      "text/plain": [
       "SearchAction(query='what is the weather like in Munich tomorrow')"
      ]
     },
     "execution_count": 7,
     "metadata": {},
     "output_type": "execute_result"
    }
   ],
   "source": [
    "fixed_output"
   ]
  },
  {
   "cell_type": "code",
   "execution_count": 8,
   "id": "bf8cdb96",
   "metadata": {},
   "outputs": [
    {
     "data": {
      "text/plain": [
       "'The output should be formatted as a JSON instance that conforms to the JSON schema below.\\n\\nAs an example, for the schema {\"properties\": {\"foo\": {\"title\": \"Foo\", \"description\": \"a list of strings\", \"type\": \"array\", \"items\": {\"type\": \"string\"}}}, \"required\": [\"foo\"]}\\nthe object {\"foo\": [\"bar\", \"baz\"]} is a well-formatted instance of the schema. The object {\"properties\": {\"foo\": [\"bar\", \"baz\"]}} is not well-formatted.\\n\\nHere is the output schema:\\n```\\n{\"properties\": {\"query\": {\"description\": \"A query to search for if a search action is taken\", \"title\": \"Query\", \"type\": \"string\"}}, \"required\": [\"query\"]}\\n```'"
      ]
     },
     "execution_count": 8,
     "metadata": {},
     "output_type": "execute_result"
    }
   ],
   "source": [
    "parser.get_format_instructions()"
   ]
  }
 ],
 "metadata": {
  "kernelspec": {
   "display_name": "generative_ai_with_langchain",
   "language": "python",
   "name": "python3"
  },
  "language_info": {
   "codemirror_mode": {
    "name": "ipython",
    "version": 3
   },
   "file_extension": ".py",
   "mimetype": "text/x-python",
   "name": "python",
   "nbconvert_exporter": "python",
   "pygments_lexer": "ipython3",
   "version": "3.12.4"
  }
 },
 "nbformat": 4,
 "nbformat_minor": 5
}
