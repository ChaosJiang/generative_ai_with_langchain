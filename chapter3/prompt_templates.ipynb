{
 "cells": [
  {
   "cell_type": "markdown",
   "id": "08f52ed2",
   "metadata": {},
   "source": [
    "# Prompt templates\n",
    "We can use Python built-in templates with substitutions, but it makes it difficult to substitute in real-time:"
   ]
  },
  {
   "cell_type": "code",
   "execution_count": 2,
   "id": "b16b57e5",
   "metadata": {},
   "outputs": [
    {
     "name": "stdout",
     "output_type": "stream",
     "text": [
      "content='This job description **does not seem to be a good fit for a junior Java developer.**\\n\\nHere\\'s why:\\n\\n*   **Primary Focus is on PLC Programming (SPS):** The title itself, \"SPS-Software Engineer (m/w/d) im Maschinenbau,\" clearly indicates the core technology is SPS (Programmable Logic Controller) programming. This is a specialized field within automation and industrial control systems, vastly different from typical Java development.\\n*   **Required Skills are PLC-Specific:** The \"Anforderungen\" (requirements) section explicitly mentions \"Umfangreiche Kenntnisse in verschiedenen SPS-Programmiersprachen (z.B. S7Classic, TIA, Simotion).\" These are specific to industrial automation, not Java.\\n*   **Context is Machine Building:** The job is within the context of \"Maschinenbau\" (mechanical engineering/machine building). This means the software development will be geared towards controlling and automating machinery, not building general-purpose applications, web services, or enterprise software, which is more common for Java developers.\\n*   **Experience in Service and Machine/Plant Construction:** The requirement for \"Mehrjährige Berufserfahrung im Serviceumfeld, idealerweise im Maschinen- und Anlagenbau\" (several years of professional experience in a service environment, ideally in machine and plant construction) points towards an experienced professional in that specific industry, not an entry-level developer.\\n*   **No Mention of Java:** Crucially, there is no mention of Java, Java EE, Spring, or any related Java technologies anywhere in the job description.\\n\\n**In summary, a junior Java developer\\'s skills in Java, object-oriented programming, data structures, algorithms, and potentially frameworks like Spring or Hibernate would be largely irrelevant for this role.** This position is for someone with a background in industrial automation and PLC programming.' additional_kwargs={} response_metadata={'is_blocked': False, 'safety_ratings': [], 'usage_metadata': {'prompt_token_count': 558, 'candidates_token_count': 378, 'total_token_count': 936, 'prompt_tokens_details': [{'modality': 1, 'token_count': 558}], 'candidates_tokens_details': [{'modality': 1, 'token_count': 378}], 'thoughts_token_count': 0, 'cached_content_token_count': 0, 'cache_tokens_details': []}, 'finish_reason': 'STOP', 'avg_logprobs': -0.2994154269102389, 'model_name': 'gemini-2.5-flash-lite'} id='run--e1625622-52cb-4e11-89fb-ad730e4b59be-0' usage_metadata={'input_tokens': 558, 'output_tokens': 378, 'total_tokens': 936, 'input_token_details': {'cache_read': 0}}\n"
     ]
    }
   ],
   "source": [
    "from langchain_google_vertexai import ChatVertexAI\n",
    "\n",
    "\n",
    "llm = ChatVertexAI(model=\"gemini-2.5-flash-lite\")\n",
    "\n",
    "prompt_template = (\n",
    "    \"Given a job description, decide whether it suites a junior Java developer.\"\n",
    "    \"\\nJOB DESCRIPTION:\\n{job_description}\\n\"\n",
    ")\n",
    "\n",
    "job_description = \"\"\"\n",
    "SPS-Software Engineer (m/w/d) im Maschinenbau\n",
    "Glaston Germany GmbH\n",
    "Neuhausen-Hamberg\n",
    "Feste Anstellung\n",
    "Homeoffice möglich, Vollzeit\n",
    "Erschienen: vor 1 Tag\n",
    "Glaston Germany GmbH logo\n",
    "SPS-Software Engineer (m/w/d) im Maschinenbau\n",
    "Glaston Germany GmbH\n",
    "slide number 1slide number 2slide number 3\n",
    "Glaston ist eine internationale Marke mit weltweit führenden Unternehmen, die für zukunftsweisende Maschinen, Anlagen, Systeme und Dienstleistungen in der Bearbeitung von Architektur-, Fahrzeug- und Displayglas steht.\n",
    "\n",
    "Mit unserer über 50-jährigen Erfahrung am Standort Glaston Germany GmbH in Neuhausen bei Pforzheim verbessern und sichern wir nachhaltig die Produktivität unserer Kunden bei der Fertigung von Architekturglas. Diesen Erfolg verdanken wir unseren motivierten und engagierten Mitarbeitenden und wurden so zu einem der führenden Anbieter von automatisierten und kundenspezifischen Anlagen.\n",
    "\n",
    "Der Umgang mit Software liegt dir im Blut und du möchtest bei einem Hidden Champion durchstarten?\n",
    "Dein Faible für Softwarelösungen und dein Herz für unterschiedliche Technologien sind ideale Voraussetzungen, um Maschinen wieder zu alter Stärke zu verhelfen?\n",
    "Du hast einen ausgeprägten Servicegedanken und Spaß an der Arbeit mit Kunden?\n",
    "\n",
    "Dann komm zu Glaston! Wir suchen ab sofort für unseren Bereich Service Upgrades Verstärkung!\n",
    "\n",
    "SPS-SOFTWARE ENGINEER (M/W/D) IM MASCHINENBAU\n",
    "\n",
    "Als SPS-Software Engineer (m/w/d) im Maschinenbau sind deine Aufgabengebiete:\n",
    "Ausarbeitung und Weiterentwicklung von Kundenaufträgen und Upgrade-Konzepten\n",
    "Selbstständige und termingerechte Bearbeitung von Kundenprojekten und Bereitstellung der notwendigen Dokumente\n",
    "Unterstützung des Inbetriebnahme- und Servicepersonals im Haus und beim Kunden vor Ort\n",
    "Diese Anforderungen musst du mitbringen:\n",
    "Qualifizierte technische Ausbildung: Techniker, Studium oder vergleichbare Qualifikation\n",
    "Mehrjährige Berufserfahrung im Serviceumfeld, idealerweise im Maschinen- und Anlagenbau\n",
    "Umfangreiche Kenntnisse in verschiedenen SPS-Programmiersprachen (z.B. S7Classic, TIA, Simotion)\n",
    "Bei uns profitierst du von folgenden Benefits:\n",
    "Exzellente Rahmenbedingungen (z.B. attraktives Gehaltsmodell, flexible Arbeitszeiten mit Gleitzeit und Homeoffice-Möglichkeiten)\n",
    "Attraktives Arbeitsumfeld in idyllisch-ländlicher Lage\n",
    "Umfangreiche Mobilitätsförderung (z.B. Ladestation für Elektroautos)\n",
    "Wellbeing am Arbeitsplatz\n",
    "\"\"\"\n",
    "\n",
    "result = llm.invoke(prompt_template.format(job_description=job_description))\n",
    "print(result)"
   ]
  },
  {
   "cell_type": "code",
   "execution_count": 3,
   "id": "519172ba",
   "metadata": {},
   "outputs": [
    {
     "data": {
      "text/plain": [
       "StringPromptValue(text='Given a job description, decide whether it suites a junior Java developer.\\nJOB DESCRIPTION:\\nfake_jd\\n')"
      ]
     },
     "execution_count": 3,
     "metadata": {},
     "output_type": "execute_result"
    }
   ],
   "source": [
    "from langchain_core.prompts import PromptTemplate\n",
    "\n",
    "lc_prompt_template = PromptTemplate.from_template(prompt_template)\n",
    "lc_prompt_template.invoke({\"job_description\": \"fake_jd\"})"
   ]
  },
  {
   "cell_type": "code",
   "execution_count": 4,
   "id": "e2b66a5a",
   "metadata": {},
   "outputs": [
    {
     "data": {
      "text/plain": [
       "'Let\\'s break down this job description to see if it suits a junior Java developer.\\n\\n**Key aspects of the job description:**\\n\\n*   **Title:** SPS-Software Engineer (m/w/d) im Maschinenbau (SPS Software Engineer in Mechanical Engineering)\\n*   **Company:** Glaston Germany GmbH (Focus on glass processing machinery)\\n*   **Core Responsibilities:**\\n    *   Development and further development of customer orders and upgrade concepts.\\n    *   Independent and timely processing of customer projects and provision of necessary documents.\\n    *   Support of commissioning and service personnel on-site and at the customer\\'s location.\\n*   **Required Skills/Qualifications:**\\n    *   Qualified technical training (Technician, degree, or comparable qualification).\\n    *   **Several years of professional experience in the service environment, ideally in mechanical and plant engineering.**\\n    *   **Extensive knowledge in various PLC programming languages (e.g., S7Classic, TIA, Simotion).**\\n\\n**Analysis from a Junior Java Developer\\'s perspective:**\\n\\n1.  **Technology Stack:** The job explicitly mentions **SPS programming languages (PLC)**. This is a very different domain from Java. PLCs are used for industrial automation and control systems, while Java is a general-purpose programming language often used for web applications, enterprise software, and mobile development. There is very little to no overlap in the core programming languages or their typical application areas.\\n\\n2.  **Experience Level:** The requirement for \"**mehrjährige Berufserfahrung im Serviceumfeld, idealerweise im Maschinen- und Anlagenbau**\" (several years of professional experience in the service environment, ideally in mechanical and plant engineering) is a significant barrier for a junior developer. Junior roles typically look for 0-2 years of experience.\\n\\n3.  **Job Focus:** The role is centered around **mechanical engineering and industrial automation**. While software is involved, it\\'s in the context of controlling and upgrading machinery. A junior Java developer is more likely to be looking for roles in software development companies or departments focused on general software solutions, rather than a manufacturing/machinery company\\'s specific automation engineering team.\\n\\n4.  **Customer Interaction:** The description mentions \"Spaß an der Arbeit mit Kunden\" (enjoy working with customers) and supporting on-site personnel. While customer interaction can be part of a junior role, this particular description suggests a more direct client-facing or field service aspect, which might not align with a typical junior developer\\'s expectation.\\n\\n**Conclusion:**\\n\\n**No, this job description does NOT suit a junior Java developer.**\\n\\nThe core technologies required (PLC programming) are completely different from Java. Additionally, the experience requirements are far beyond what a junior role would typically ask for. The focus on mechanical engineering and the service/on-site aspect also suggests a specialized role that wouldn\\'t align with the typical career path for a junior Java developer.'"
      ]
     },
     "execution_count": 4,
     "metadata": {},
     "output_type": "execute_result"
    }
   ],
   "source": [
    "from langchain_core.output_parsers import StrOutputParser\n",
    "\n",
    "lc_prompt_template = PromptTemplate.from_template(prompt_template)\n",
    "chain = lc_prompt_template | llm | StrOutputParser()\n",
    "chain.invoke({\"job_description\": job_description})"
   ]
  },
  {
   "cell_type": "code",
   "execution_count": 5,
   "id": "be7beeb9",
   "metadata": {},
   "outputs": [
    {
     "data": {
      "text/plain": [
       "'Let\\'s break down this job description to see if it suits a junior Java developer.\\n\\n**Here\\'s a strong NO for a junior Java developer, and why:**\\n\\n*   **Core Technologies:** The job description explicitly mentions \"SPS-Software Engineer\" and lists required skills like \"S7Classic, TIA, Simotion.\" These are **PLC (Programmable Logic Controller) programming languages** used in industrial automation and machine control. This is a completely different domain than Java development.\\n*   **Industry Focus:** The role is within **\"Maschinenbau\" (mechanical engineering)** and specifically deals with \"Bearbeitung von Architektur-, Fahrzeug- und Displayglas\" (processing of architectural, automotive, and display glass). The focus is on controlling and upgrading machinery, not general software application development.\\n*   **Experience Level:** While it doesn\\'t explicitly state \"senior,\" the requirement for \"Mehrjährige Berufserfahrung im Serviceumfeld, idealerweise im Maschinen- und Anlagenbau\" (several years of professional experience in a service environment, ideally in mechanical and plant engineering) clearly indicates this is **not an entry-level or junior position**.\\n*   **Role Responsibilities:** The tasks listed, such as \"Ausarbeitung und Weiterentwicklung von Kundenaufträgen und Upgrade-Konzepten\" (Elaboration and further development of customer orders and upgrade concepts) and \"Unterstützung des Inbetriebnahme- und Servicepersonals\" (Support of commissioning and service personnel), point towards a role focused on industrial automation service and project execution, not Java software development.\\n\\n**In summary, this job is for an experienced PLC programmer/automation engineer, not a junior Java developer.** A junior Java developer would typically be looking for roles focused on:\\n\\n*   Java-based web applications (Spring Boot, JSP, Servlets)\\n*   Mobile application development (Android)\\n*   Desktop applications\\n*   Backend services and APIs\\n*   Data structures, algorithms, and object-oriented programming in Java\\n\\nThis job description is in a completely different technological and industry vertical.'"
      ]
     },
     "execution_count": 5,
     "metadata": {},
     "output_type": "execute_result"
    }
   ],
   "source": [
    "from langchain_core.prompts import ChatPromptTemplate, HumanMessagePromptTemplate\n",
    "from langchain_core.messages import SystemMessage, HumanMessage\n",
    "from langchain_core.prompts import SystemMessagePromptTemplate\n",
    "\n",
    "\n",
    "msg_template = HumanMessagePromptTemplate.from_template(prompt_template)\n",
    "msg_example = msg_template.format(job_description=\"fake_jd\")\n",
    "\n",
    "chat_prompt_template = ChatPromptTemplate.from_messages(\n",
    "    [SystemMessage(content=\"You are a helpful assistant.\"), msg_template]\n",
    ")\n",
    "chain = chat_prompt_template | llm | StrOutputParser()\n",
    "chain.invoke({\"job_description\": job_description})"
   ]
  },
  {
   "cell_type": "code",
   "execution_count": 6,
   "id": "3936f63a",
   "metadata": {},
   "outputs": [
    {
     "data": {
      "text/plain": [
       "'Based on the provided job description, this role is **NOT a good fit for a junior Java developer.**\\n\\nHere\\'s why:\\n\\n*   **Primary Focus is SPS and Machine Engineering:** The title itself, \"SPS-Software Engineer (m/w/d) im Maschinenbau,\" clearly indicates the focus is on **SPS (Speicherprogrammierbare Steuerung - Programmable Logic Controller)** programming and **mechanical engineering (Maschinenbau)**. Java is not mentioned as a required or even a secondary skill.\\n*   **Required Technical Skills:** The description explicitly asks for:\\n    *   \"Umfangreiche Kenntnisse in verschiedenen SPS-Programmiersprachen (z.B. S7Classic, TIA, Simotion)\" - Extensive knowledge in various SPS programming languages.\\n    *   This is a completely different skillset than Java development.\\n*   **Experience Level:** While not explicitly stating \"senior,\" the requirement for \"Mehrjährige Berufserfahrung im Serviceumfeld, idealerweise im Maschinen- und Anlagenbau\" (Several years of professional experience in a service environment, ideally in mechanical and plant engineering) suggests they are looking for someone with established experience in their specific domain, not a junior entering the field.\\n*   **Nature of Work:** The tasks involve \"Ausarbeitung und Weiterentwicklung von Kundenaufträgen und Upgrade-Konzepten\" (Elaboration and further development of customer orders and upgrade concepts) and supporting \"Inbetriebnahme- und Servicepersonal\" (commissioning and service personnel). This points towards a more specialized, hardware-adjacent software role rather than general application development.\\n\\nA junior Java developer would typically be looking for roles that involve:\\n\\n*   Java programming languages (Spring Boot, etc.)\\n*   Object-oriented programming principles\\n*   Software development lifecycles\\n*   Database technologies\\n*   API development\\n*   Testing frameworks\\n*   Potentially front-end technologies or cloud platforms, depending on the specific role.\\n\\nThis job description is seeking a specialist in industrial automation software, not a general-purpose Java developer.'"
      ]
     },
     "execution_count": 6,
     "metadata": {},
     "output_type": "execute_result"
    }
   ],
   "source": [
    "chat_prompt_template = ChatPromptTemplate.from_messages(\n",
    "    [(\"system\", \"You are a helpful assistant.\"), (\"human\", prompt_template)]\n",
    ")\n",
    "chain = chat_prompt_template | llm | StrOutputParser()\n",
    "chain.invoke({\"job_description\": job_description})"
   ]
  }
 ],
 "metadata": {
  "kernelspec": {
   "display_name": "generative_ai_with_langchain",
   "language": "python",
   "name": "python3"
  },
  "language_info": {
   "codemirror_mode": {
    "name": "ipython",
    "version": 3
   },
   "file_extension": ".py",
   "mimetype": "text/x-python",
   "name": "python",
   "nbconvert_exporter": "python",
   "pygments_lexer": "ipython3",
   "version": "3.12.4"
  }
 },
 "nbformat": 4,
 "nbformat_minor": 5
}
