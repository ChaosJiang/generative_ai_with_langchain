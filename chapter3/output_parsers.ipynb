{
 "cells": [
  {
   "cell_type": "markdown",
   "id": "1e62eecb",
   "metadata": {},
   "source": [
    "# Output parsers\n"
   ]
  },
  {
   "cell_type": "code",
   "execution_count": 9,
   "id": "4e432c33",
   "metadata": {},
   "outputs": [
    {
     "name": "stdout",
     "output_type": "stream",
     "text": [
      "NO\n"
     ]
    }
   ],
   "source": [
    "from langchain_google_vertexai import ChatVertexAI\n",
    "from enum import Enum\n",
    "from langchain.output_parsers import EnumOutputParser\n",
    "\n",
    "llm = ChatVertexAI(model_name=\"gemini-2.5-flash-lite\")\n",
    "job_description = (\n",
    "    job_description\n",
    ") = \"\"\"\n",
    "SPS-Software Engineer (m/w/d) im Maschinenbau\n",
    "Glaston Germany GmbH\n",
    "Neuhausen-Hamberg\n",
    "Feste Anstellung\n",
    "Homeoffice möglich, Vollzeit\n",
    "Erschienen: vor 1 Tag\n",
    "Glaston Germany GmbH logo\n",
    "SPS-Software Engineer (m/w/d) im Maschinenbau\n",
    "Glaston Germany GmbH\n",
    "slide number 1slide number 2slide number 3\n",
    "Glaston ist eine internationale Marke mit weltweit führenden Unternehmen, die für zukunftsweisende Maschinen, Anlagen, Systeme und Dienstleistungen in der Bearbeitung von Architektur-, Fahrzeug- und Displayglas steht.\n",
    "\n",
    "Mit unserer über 50-jährigen Erfahrung am Standort Glaston Germany GmbH in Neuhausen bei Pforzheim verbessern und sichern wir nachhaltig die Produktivität unserer Kunden bei der Fertigung von Architekturglas. Diesen Erfolg verdanken wir unseren motivierten und engagierten Mitarbeitenden und wurden so zu einem der führenden Anbieter von automatisierten und kundenspezifischen Anlagen.\n",
    "\n",
    "Der Umgang mit Software liegt dir im Blut und du möchtest bei einem Hidden Champion durchstarten?\n",
    "Dein Faible für Softwarelösungen und dein Herz für unterschiedliche Technologien sind ideale Voraussetzungen, um Maschinen wieder zu alter Stärke zu verhelfen?\n",
    "Du hast einen ausgeprägten Servicegedanken und Spaß an der Arbeit mit Kunden?\n",
    "\n",
    "Dann komm zu Glaston! Wir suchen ab sofort für unseren Bereich Service Upgrades Verstärkung!\n",
    "\n",
    "SPS-SOFTWARE ENGINEER (M/W/D) IM MASCHINENBAU\n",
    "\n",
    "Als SPS-Software Engineer (m/w/d) im Maschinenbau sind deine Aufgabengebiete:\n",
    "Ausarbeitung und Weiterentwicklung von Kundenaufträgen und Upgrade-Konzepten\n",
    "Selbstständige und termingerechte Bearbeitung von Kundenprojekten und Bereitstellung der notwendigen Dokumente\n",
    "Unterstützung des Inbetriebnahme- und Servicepersonals im Haus und beim Kunden vor Ort\n",
    "Diese Anforderungen musst du mitbringen:\n",
    "Qualifizierte technische Ausbildung: Techniker, Studium oder vergleichbare Qualifikation\n",
    "Mehrjährige Berufserfahrung im Serviceumfeld, idealerweise im Maschinen- und Anlagenbau\n",
    "Umfangreiche Kenntnisse in verschiedenen SPS-Programmiersprachen (z.B. S7Classic, TIA, Simotion)\n",
    "Bei uns profitierst du von folgenden Benefits:\n",
    "Exzellente Rahmenbedingungen (z.B. attraktives Gehaltsmodell, flexible Arbeitszeiten mit Gleitzeit und Homeoffice-Möglichkeiten)\n",
    "Attraktives Arbeitsumfeld in idyllisch-ländlicher Lage\n",
    "Umfangreiche Mobilitätsförderung (z.B. Ladestation für Elektroautos)\n",
    "Wellbeing am Arbeitsplatz\n",
    "\"\"\"\n",
    "prompt_template = (\n",
    "    \"Given a job description, decide whether it suits a junior Java developer.\"\n",
    "    \"\\n Job DESCRIPTION: {job_description}\\n\\n Answer only YES or NO.\"\n",
    ")\n",
    "\n",
    "\n",
    "class IsSuitableJobEnum(Enum):\n",
    "    YES = \"YES\"\n",
    "    NO = \"NO\"\n",
    "\n",
    "\n",
    "parser = EnumOutputParser(enum=IsSuitableJobEnum)\n",
    "chain = llm | parser | (lambda x: x.value)\n",
    "\n",
    "result = chain.invoke(prompt_template.format(job_description=job_description))\n",
    "print(result)"
   ]
  }
 ],
 "metadata": {
  "kernelspec": {
   "display_name": "generative_ai_with_langchain",
   "language": "python",
   "name": "python3"
  },
  "language_info": {
   "codemirror_mode": {
    "name": "ipython",
    "version": 3
   },
   "file_extension": ".py",
   "mimetype": "text/x-python",
   "name": "python",
   "nbconvert_exporter": "python",
   "pygments_lexer": "ipython3",
   "version": "3.12.4"
  }
 },
 "nbformat": 4,
 "nbformat_minor": 5
}
