{
 "cells": [
  {
   "cell_type": "markdown",
   "id": "a731d4b1",
   "metadata": {},
   "source": [
    "# Memory\n"
   ]
  },
  {
   "cell_type": "code",
   "execution_count": 2,
   "id": "42b0b87f",
   "metadata": {},
   "outputs": [
    {
     "name": "stdout",
     "output_type": "stream",
     "text": [
      "Amount of input messages: 1\n",
      "History length: 2\n",
      "Amount of input messages: 1\n",
      "History length: 4\n"
     ]
    }
   ],
   "source": [
    "from langchain_core.chat_history import InMemoryChatMessageHistory\n",
    "from langchain_core.runnables.history import RunnableWithMessageHistory\n",
    "from langchain_core.language_models import FakeListChatModel\n",
    "from langchain.callbacks.base import BaseCallbackHandler\n",
    "from langchain_core.messages import trim_messages, HumanMessage\n",
    "\n",
    "\n",
    "class PrintOutputCallback(BaseCallbackHandler):\n",
    "    def on_chat_model_start(self, serialized, messages, **kwargs) -> None:\n",
    "        print(f\"Amount of input messages: {len(messages)}\")\n",
    "\n",
    "\n",
    "sessions: dict[str, InMemoryChatMessageHistory] = {}\n",
    "handler = PrintOutputCallback()\n",
    "llm = FakeListChatModel(responses=[\"ai1\", \"ai2\", \"ai3\"])\n",
    "\n",
    "\n",
    "def get_session_history(session_id: str) -> InMemoryChatMessageHistory:\n",
    "    if session_id not in sessions:\n",
    "        sessions[session_id] = InMemoryChatMessageHistory()\n",
    "    return sessions[session_id]\n",
    "\n",
    "\n",
    "trimmer = trim_messages(\n",
    "    max_tokens=1,\n",
    "    strategy=\"last\",\n",
    "    token_counter=len,\n",
    "    include_system=True,\n",
    "    start_on=\"human\",\n",
    ")\n",
    "\n",
    "raw_chain = trimmer | llm\n",
    "chain = RunnableWithMessageHistory(raw_chain, get_session_history)\n",
    "\n",
    "config = {\"callbacks\": [PrintOutputCallback()], \"configurable\": {\"session_id\": \"1\"}}\n",
    "_ = chain.invoke([HumanMessage(\"Hi!\")], config=config)\n",
    "\n",
    "print(f\"History length: {len(sessions['1'].messages)}\")\n",
    "\n",
    "_ = chain.invoke(\n",
    "    [HumanMessage(\"How are you?\")],\n",
    "    config=config,\n",
    ")\n",
    "print(f\"History length: {len(sessions['1'].messages)}\")"
   ]
  },
  {
   "cell_type": "code",
   "execution_count": 3,
   "id": "fc0f875a",
   "metadata": {},
   "outputs": [
    {
     "data": {
      "text/plain": [
       "[HumanMessage(content='Hi!', additional_kwargs={}, response_metadata={}),\n",
       " AIMessage(content='ai1', additional_kwargs={}, response_metadata={}, id='run--d2f77316-0821-404a-a8e2-672890c92e5e-0'),\n",
       " HumanMessage(content='How are you?', additional_kwargs={}, response_metadata={}),\n",
       " AIMessage(content='ai2', additional_kwargs={}, response_metadata={}, id='run--e433f818-682d-4e24-8c74-0a849df68400-0')]"
      ]
     },
     "execution_count": 3,
     "metadata": {},
     "output_type": "execute_result"
    }
   ],
   "source": [
    "sessions[\"1\"].messages"
   ]
  },
  {
   "cell_type": "code",
   "execution_count": 4,
   "id": "52818f08",
   "metadata": {},
   "outputs": [
    {
     "data": {
      "text/plain": [
       "[]"
      ]
     },
     "execution_count": 4,
     "metadata": {},
     "output_type": "execute_result"
    }
   ],
   "source": [
    "trimmer.invoke(sessions[\"1\"].messages)"
   ]
  },
  {
   "cell_type": "code",
   "execution_count": 13,
   "id": "53c0d5db",
   "metadata": {},
   "outputs": [],
   "source": [
    "from langgraph.graph import MessageGraph, START, END\n",
    "from langgraph.checkpoint.memory import MemorySaver\n",
    "from langchain_core.messages import AIMessage\n",
    "\n",
    "\n",
    "def test_node(state):\n",
    "    print(f\"State: {state}\")\n",
    "    print(f\"History length= {len(state[:-1])}\")\n",
    "    return [AIMessage(\"Hello!\")]\n",
    "\n",
    "\n",
    "builder = MessageGraph()\n",
    "builder.add_node(\"test_node\", test_node)\n",
    "builder.add_edge(START, \"test_node\")\n",
    "builder.add_edge(\"test_node\", END)\n",
    "memory = MemorySaver()\n",
    "graph = builder.compile(checkpointer=memory)"
   ]
  },
  {
   "cell_type": "code",
   "execution_count": 15,
   "id": "81eb61d7",
   "metadata": {},
   "outputs": [
    {
     "name": "stdout",
     "output_type": "stream",
     "text": [
      "State: [HumanMessage(content='test', additional_kwargs={}, response_metadata={}, id='a27eb021-2e2e-4598-9847-106e1d0ffdb7'), AIMessage(content='Hello!', additional_kwargs={}, response_metadata={}, id='e732eff6-553c-47a4-8b6e-fe37e67b52e7'), HumanMessage(content='test', additional_kwargs={}, response_metadata={}, id='ee99f495-a3b3-494e-81ad-3585ff3d79cf'), AIMessage(content='Hello!', additional_kwargs={}, response_metadata={}, id='284e0048-d8f9-4de1-b313-eb10895c543d'), HumanMessage(content='test', additional_kwargs={}, response_metadata={}, id='7291cc37-1556-41d9-9172-2d01e6dfb6a3')]\n",
      "History length= 4\n",
      "State: [HumanMessage(content='test', additional_kwargs={}, response_metadata={}, id='e1e52d07-007f-4c63-9c62-b6989380cf44'), AIMessage(content='Hello!', additional_kwargs={}, response_metadata={}, id='94a6217d-f1e7-4f7f-afb6-6ad1f12856a2'), HumanMessage(content='test', additional_kwargs={}, response_metadata={}, id='66336fb7-3cba-4c2e-9733-c9d434e689c5')]\n",
      "History length= 2\n",
      "State: [HumanMessage(content='test', additional_kwargs={}, response_metadata={}, id='a27eb021-2e2e-4598-9847-106e1d0ffdb7'), AIMessage(content='Hello!', additional_kwargs={}, response_metadata={}, id='e732eff6-553c-47a4-8b6e-fe37e67b52e7'), HumanMessage(content='test', additional_kwargs={}, response_metadata={}, id='ee99f495-a3b3-494e-81ad-3585ff3d79cf'), AIMessage(content='Hello!', additional_kwargs={}, response_metadata={}, id='284e0048-d8f9-4de1-b313-eb10895c543d'), HumanMessage(content='test', additional_kwargs={}, response_metadata={}, id='7291cc37-1556-41d9-9172-2d01e6dfb6a3'), AIMessage(content='Hello!', additional_kwargs={}, response_metadata={}, id='3ea6b350-c97d-4290-b3ff-24f73203452d'), HumanMessage(content='test', additional_kwargs={}, response_metadata={}, id='e3492714-c207-418f-aa40-f0b721b4b69e')]\n",
      "History length= 6\n"
     ]
    }
   ],
   "source": [
    "_ = graph.invoke(\n",
    "    [HumanMessage(content=\"test\")], config={\"configurable\": {\"thread_id\": \"thread-a\"}}\n",
    ")\n",
    "_ = graph.invoke(\n",
    "    [HumanMessage(content=\"test\")], config={\"configurable\": {\"thread_id\": \"thread-b\"}}\n",
    ")\n",
    "_ = graph.invoke(\n",
    "    [HumanMessage(content=\"test\")], config={\"configurable\": {\"thread_id\": \"thread-a\"}}\n",
    ")"
   ]
  },
  {
   "cell_type": "code",
   "execution_count": 12,
   "id": "1f3241dd",
   "metadata": {},
   "outputs": [
    {
     "name": "stdout",
     "output_type": "stream",
     "text": [
      "1f04e9d2-bc0e-680c-800d-2594d65b57d6\n",
      "1f04e9d2-bc0d-66fa-800c-75c49ef1c243\n",
      "1f04e9d2-bc0c-6692-800b-7f063232758e\n",
      "1f04e9d2-bc05-6a04-800a-00cb1962950a\n",
      "1f04e9d2-bc03-6970-8009-2741c872bd40\n",
      "1f04e9d2-bc00-6ec8-8008-7225e723a464\n",
      "1f04e9d2-500a-63e0-8007-d7f364ecbd2e\n",
      "1f04e9d2-5009-6558-8006-5b5944f07b16\n",
      "1f04e9d2-5008-605e-8005-4b47c684d857\n",
      "1f04e9d2-5001-67cc-8004-8768c80060a8\n",
      "1f04e9d2-4fff-62ba-8003-2e8d0a51ac4d\n",
      "1f04e9d2-4ffc-64a2-8002-5cede3fb100e\n",
      "1f04e9d1-8e5c-6f72-8001-8e4abfd66ad2\n",
      "1f04e9d1-8e5a-6c36-8000-e2f7bcdb41a0\n",
      "1f04e9d1-8e57-6b26-bfff-9f861d1f04bf\n"
     ]
    }
   ],
   "source": [
    "checkpoints = list(memory.list(config={\"configurable\": {\"thread_id\": \"thread-a\"}}))\n",
    "\n",
    "for check_point in checkpoints:\n",
    "    print(check_point.config[\"configurable\"][\"checkpoint_id\"])"
   ]
  }
 ],
 "metadata": {
  "kernelspec": {
   "display_name": ".venv",
   "language": "python",
   "name": "python3"
  },
  "language_info": {
   "codemirror_mode": {
    "name": "ipython",
    "version": 3
   },
   "file_extension": ".py",
   "mimetype": "text/x-python",
   "name": "python",
   "nbconvert_exporter": "python",
   "pygments_lexer": "ipython3",
   "version": "3.12.4"
  }
 },
 "nbformat": 4,
 "nbformat_minor": 5
}
